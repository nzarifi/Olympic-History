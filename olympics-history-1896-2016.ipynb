{
 "cells": [
  {
   "cell_type": "markdown",
   "metadata": {
    "_cell_guid": "79c7e3d0-c299-4dcb-8224-4455121ee9b0",
    "_uuid": "d629ff2d2480ee46fbb7e2d37f6b5fab8052498a",
    "collapsed": true
   },
   "source": [
    "# OLYMPICS HISTORY\n",
    "* According to historical records, the first ancient Olympic Games can be traced back to 776 BC. They were dedicated to the Olympian gods and were staged on the ancient plains of Olympia. They continued for nearly 12 centuries, until Emperor Theodosius decreed in 393 A.D. that all such \"pagan cults\" be banned.\n",
    "\n",
    "### OLYMPIA\n",
    "* Olympia, the site of the ancient Olympic Games, is in the western part of the Peloponnese which, according to Greek mythology, is the island of \"Pelops\", the founder of the Olympic Games. Imposing temples, votive buildings, elaborate shrines and ancient sporting facilities were combined in a site of unique natural and mystical beauty. Olympia functioned as a meeting place for worship and other religious and political practices as early as the 10th century B.C. The central part of Olympia was dominated by the majestic temple of Zeus, with the temple of Hera parallel to it.\n",
    "\n",
    "### THE GAMES AND RELIGION\n",
    "* The Olympic Games were closely linked to the religious festivals of the cult of Zeus, but were not an integral part of a rite. Indeed, they had a secular character and aimed to show the physical qualities and evolution of the performances acco"
   ]
  },
  {
   "cell_type": "code",
   "execution_count": 3,
   "metadata": {
    "_kg_hide-input": true,
    "_uuid": "c41379fa15b055aaf6218a88d9dc3fc2e72596b2"
   },
   "outputs": [
    {
     "ename": "IOError",
     "evalue": "[Errno 2] No such file or directory: '../input/olympic-img/352883-1440x900.jpg'",
     "output_type": "error",
     "traceback": [
      "\u001b[0;31m---------------------------------------------------------------------------\u001b[0m",
      "\u001b[0;31mIOError\u001b[0m                                   Traceback (most recent call last)",
      "\u001b[0;32m<ipython-input-3-f5ca1b683aa4>\u001b[0m in \u001b[0;36m<module>\u001b[0;34m()\u001b[0m\n\u001b[1;32m      4\u001b[0m \u001b[0;32mfrom\u001b[0m \u001b[0mPIL\u001b[0m \u001b[0;32mimport\u001b[0m  \u001b[0mImage\u001b[0m\u001b[0;34m\u001b[0m\u001b[0m\n\u001b[1;32m      5\u001b[0m \u001b[0mget_ipython\u001b[0m\u001b[0;34m(\u001b[0m\u001b[0;34m)\u001b[0m\u001b[0;34m.\u001b[0m\u001b[0mmagic\u001b[0m\u001b[0;34m(\u001b[0m\u001b[0;34mu'matplotlib inline'\u001b[0m\u001b[0;34m)\u001b[0m\u001b[0;34m\u001b[0m\u001b[0m\n\u001b[0;32m----> 6\u001b[0;31m \u001b[0mimg\u001b[0m \u001b[0;34m=\u001b[0m \u001b[0mnp\u001b[0m\u001b[0;34m.\u001b[0m\u001b[0marray\u001b[0m\u001b[0;34m(\u001b[0m\u001b[0mImage\u001b[0m\u001b[0;34m.\u001b[0m\u001b[0mopen\u001b[0m\u001b[0;34m(\u001b[0m\u001b[0;34mr\"../input/olympic-img/352883-1440x900.jpg\"\u001b[0m\u001b[0;34m)\u001b[0m\u001b[0;34m)\u001b[0m\u001b[0;34m\u001b[0m\u001b[0m\n\u001b[0m\u001b[1;32m      7\u001b[0m \u001b[0mfig\u001b[0m \u001b[0;34m=\u001b[0m \u001b[0mplt\u001b[0m\u001b[0;34m.\u001b[0m\u001b[0mfigure\u001b[0m\u001b[0;34m(\u001b[0m\u001b[0mfigsize\u001b[0m\u001b[0;34m=\u001b[0m\u001b[0;34m(\u001b[0m\u001b[0;36m15\u001b[0m\u001b[0;34m,\u001b[0m\u001b[0;36m12\u001b[0m\u001b[0;34m)\u001b[0m\u001b[0;34m)\u001b[0m\u001b[0;34m\u001b[0m\u001b[0m\n\u001b[1;32m      8\u001b[0m \u001b[0mplt\u001b[0m\u001b[0;34m.\u001b[0m\u001b[0mimshow\u001b[0m\u001b[0;34m(\u001b[0m\u001b[0mimg\u001b[0m\u001b[0;34m,\u001b[0m\u001b[0minterpolation\u001b[0m\u001b[0;34m=\u001b[0m\u001b[0;34m\"bilinear\"\u001b[0m\u001b[0;34m)\u001b[0m\u001b[0;34m\u001b[0m\u001b[0m\n",
      "\u001b[0;32m/Users/niloofarzarifi/anaconda2/lib/python2.7/site-packages/PIL/Image.pyc\u001b[0m in \u001b[0;36mopen\u001b[0;34m(fp, mode)\u001b[0m\n\u001b[1;32m   2607\u001b[0m \u001b[0;34m\u001b[0m\u001b[0m\n\u001b[1;32m   2608\u001b[0m     \u001b[0;32mif\u001b[0m \u001b[0mfilename\u001b[0m\u001b[0;34m:\u001b[0m\u001b[0;34m\u001b[0m\u001b[0m\n\u001b[0;32m-> 2609\u001b[0;31m         \u001b[0mfp\u001b[0m \u001b[0;34m=\u001b[0m \u001b[0mbuiltins\u001b[0m\u001b[0;34m.\u001b[0m\u001b[0mopen\u001b[0m\u001b[0;34m(\u001b[0m\u001b[0mfilename\u001b[0m\u001b[0;34m,\u001b[0m \u001b[0;34m\"rb\"\u001b[0m\u001b[0;34m)\u001b[0m\u001b[0;34m\u001b[0m\u001b[0m\n\u001b[0m\u001b[1;32m   2610\u001b[0m         \u001b[0mexclusive_fp\u001b[0m \u001b[0;34m=\u001b[0m \u001b[0mTrue\u001b[0m\u001b[0;34m\u001b[0m\u001b[0m\n\u001b[1;32m   2611\u001b[0m \u001b[0;34m\u001b[0m\u001b[0m\n",
      "\u001b[0;31mIOError\u001b[0m: [Errno 2] No such file or directory: '../input/olympic-img/352883-1440x900.jpg'"
     ]
    }
   ],
   "source": [
    "#importing libraries\n",
    "import numpy as np\n",
    "import matplotlib.pyplot as plt\n",
    "from PIL import  Image\n",
    "%matplotlib inline\n",
    "img = np.array(Image.open(r\"../input/olympic-img/352883-1440x900.jpg\"))\n",
    "fig = plt.figure(figsize=(15,12))\n",
    "plt.imshow(img,interpolation=\"bilinear\")\n",
    "plt.axis(\"off\")\n",
    "plt.show()\n"
   ]
  },
  {
   "cell_type": "code",
   "execution_count": 2,
   "metadata": {
    "_kg_hide-input": true,
    "_uuid": "94649cda218d0971213994f4d4627cf4777f0ae5"
   },
   "outputs": [
    {
     "ename": "ImportError",
     "evalue": "No module named wordcloud",
     "output_type": "error",
     "traceback": [
      "\u001b[0;31m---------------------------------------------------------------------------\u001b[0m",
      "\u001b[0;31mImportError\u001b[0m                               Traceback (most recent call last)",
      "\u001b[0;32m<ipython-input-2-b246901f266b>\u001b[0m in \u001b[0;36m<module>\u001b[0;34m()\u001b[0m\n\u001b[1;32m      4\u001b[0m \u001b[0;32mimport\u001b[0m \u001b[0mwarnings\u001b[0m\u001b[0;34m\u001b[0m\u001b[0m\n\u001b[1;32m      5\u001b[0m \u001b[0mwarnings\u001b[0m\u001b[0;34m.\u001b[0m\u001b[0mfilterwarnings\u001b[0m\u001b[0;34m(\u001b[0m\u001b[0;34m\"ignore\"\u001b[0m\u001b[0;34m)\u001b[0m\u001b[0;34m\u001b[0m\u001b[0m\n\u001b[0;32m----> 6\u001b[0;31m \u001b[0;32mfrom\u001b[0m \u001b[0mwordcloud\u001b[0m \u001b[0;32mimport\u001b[0m \u001b[0mWordCloud\u001b[0m\u001b[0;34m,\u001b[0m\u001b[0mSTOPWORDS\u001b[0m\u001b[0;34m\u001b[0m\u001b[0m\n\u001b[0m\u001b[1;32m      7\u001b[0m \u001b[0;32mimport\u001b[0m \u001b[0mio\u001b[0m\u001b[0;34m\u001b[0m\u001b[0m\n\u001b[1;32m      8\u001b[0m \u001b[0;32mimport\u001b[0m \u001b[0mbase64\u001b[0m\u001b[0;34m\u001b[0m\u001b[0m\n",
      "\u001b[0;31mImportError\u001b[0m: No module named wordcloud"
     ]
    }
   ],
   "source": [
    "import pandas as pd\n",
    "import seaborn as sns\n",
    "import itertools\n",
    "import warnings\n",
    "warnings.filterwarnings(\"ignore\")\n",
    "from wordcloud import WordCloud,STOPWORDS\n",
    "import io\n",
    "import base64\n",
    "from mpl_toolkits.mplot3d import Axes3D\n",
    "from mpl_toolkits.basemap import Basemap\n",
    "import folium\n",
    "import folium.plugins\n",
    "import os\n",
    "import plotly.offline as py\n",
    "py.init_notebook_mode(connected=True)\n",
    "import plotly.graph_objs as go\n",
    "import plotly.tools as tls\n",
    "import plotly.figure_factory as ff\n"
   ]
  },
  {
   "cell_type": "markdown",
   "metadata": {
    "_uuid": "eecfecf1337f09d0be683e551e40c70010407888",
    "collapsed": true
   },
   "source": [
    "# Data - overview "
   ]
  },
  {
   "cell_type": "code",
   "execution_count": 4,
   "metadata": {
    "_kg_hide-input": true,
    "_uuid": "860559e533476d23eaeafa8c63646f39b655e204"
   },
   "outputs": [
    {
     "ename": "IOError",
     "evalue": "File ../input/120-years-of-olympic-history-athletes-and-results/athlete_events.csv does not exist",
     "output_type": "error",
     "traceback": [
      "\u001b[0;31m---------------------------------------------------------------------------\u001b[0m",
      "\u001b[0;31mIOError\u001b[0m                                   Traceback (most recent call last)",
      "\u001b[0;32m<ipython-input-4-981fd356bf97>\u001b[0m in \u001b[0;36m<module>\u001b[0;34m()\u001b[0m\n\u001b[0;32m----> 1\u001b[0;31m \u001b[0mevents\u001b[0m  \u001b[0;34m=\u001b[0m \u001b[0mpd\u001b[0m\u001b[0;34m.\u001b[0m\u001b[0mread_csv\u001b[0m\u001b[0;34m(\u001b[0m\u001b[0;34mr\"../input/120-years-of-olympic-history-athletes-and-results/athlete_events.csv\"\u001b[0m\u001b[0;34m)\u001b[0m\u001b[0;34m\u001b[0m\u001b[0m\n\u001b[0m\u001b[1;32m      2\u001b[0m \u001b[0mregions\u001b[0m \u001b[0;34m=\u001b[0m \u001b[0mpd\u001b[0m\u001b[0;34m.\u001b[0m\u001b[0mread_csv\u001b[0m\u001b[0;34m(\u001b[0m\u001b[0;34mr\"../input/120-years-of-olympic-history-athletes-and-results/noc_regions.csv\"\u001b[0m\u001b[0;34m)\u001b[0m\u001b[0;34m\u001b[0m\u001b[0m\n\u001b[1;32m      3\u001b[0m \u001b[0mevents\u001b[0m  \u001b[0;34m=\u001b[0m \u001b[0mevents\u001b[0m\u001b[0;34m.\u001b[0m\u001b[0mmerge\u001b[0m\u001b[0;34m(\u001b[0m\u001b[0mregions\u001b[0m\u001b[0;34m[\u001b[0m\u001b[0;34m[\u001b[0m\u001b[0;34m\"NOC\"\u001b[0m\u001b[0;34m,\u001b[0m\u001b[0;34m\"region\"\u001b[0m\u001b[0;34m]\u001b[0m\u001b[0;34m]\u001b[0m\u001b[0;34m,\u001b[0m\u001b[0mleft_on\u001b[0m\u001b[0;34m=\u001b[0m\u001b[0;34m\"NOC\"\u001b[0m\u001b[0;34m,\u001b[0m\u001b[0mright_on\u001b[0m\u001b[0;34m=\u001b[0m\u001b[0;34m\"NOC\"\u001b[0m\u001b[0;34m,\u001b[0m\u001b[0mhow\u001b[0m \u001b[0;34m=\u001b[0m \u001b[0;34m\"left\"\u001b[0m\u001b[0;34m)\u001b[0m\u001b[0;34m\u001b[0m\u001b[0m\n\u001b[1;32m      4\u001b[0m \u001b[0mhost\u001b[0m    \u001b[0;34m=\u001b[0m \u001b[0mpd\u001b[0m\u001b[0;34m.\u001b[0m\u001b[0mread_csv\u001b[0m\u001b[0;34m(\u001b[0m\u001b[0;34mr\"../input/olympic-host/olym.csv\"\u001b[0m\u001b[0;34m,\u001b[0m\u001b[0mencoding\u001b[0m\u001b[0;34m=\u001b[0m\u001b[0;34m'windows-1252'\u001b[0m\u001b[0;34m)\u001b[0m\u001b[0;34m\u001b[0m\u001b[0m\n\u001b[1;32m      5\u001b[0m \u001b[0;34m\u001b[0m\u001b[0m\n",
      "\u001b[0;32m/Users/niloofarzarifi/anaconda2/lib/python2.7/site-packages/pandas/io/parsers.pyc\u001b[0m in \u001b[0;36mparser_f\u001b[0;34m(filepath_or_buffer, sep, delimiter, header, names, index_col, usecols, squeeze, prefix, mangle_dupe_cols, dtype, engine, converters, true_values, false_values, skipinitialspace, skiprows, nrows, na_values, keep_default_na, na_filter, verbose, skip_blank_lines, parse_dates, infer_datetime_format, keep_date_col, date_parser, dayfirst, iterator, chunksize, compression, thousands, decimal, lineterminator, quotechar, quoting, escapechar, comment, encoding, dialect, tupleize_cols, error_bad_lines, warn_bad_lines, skipfooter, skip_footer, doublequote, delim_whitespace, as_recarray, compact_ints, use_unsigned, low_memory, buffer_lines, memory_map, float_precision)\u001b[0m\n\u001b[1;32m    653\u001b[0m                     skip_blank_lines=skip_blank_lines)\n\u001b[1;32m    654\u001b[0m \u001b[0;34m\u001b[0m\u001b[0m\n\u001b[0;32m--> 655\u001b[0;31m         \u001b[0;32mreturn\u001b[0m \u001b[0m_read\u001b[0m\u001b[0;34m(\u001b[0m\u001b[0mfilepath_or_buffer\u001b[0m\u001b[0;34m,\u001b[0m \u001b[0mkwds\u001b[0m\u001b[0;34m)\u001b[0m\u001b[0;34m\u001b[0m\u001b[0m\n\u001b[0m\u001b[1;32m    656\u001b[0m \u001b[0;34m\u001b[0m\u001b[0m\n\u001b[1;32m    657\u001b[0m     \u001b[0mparser_f\u001b[0m\u001b[0;34m.\u001b[0m\u001b[0m__name__\u001b[0m \u001b[0;34m=\u001b[0m \u001b[0mname\u001b[0m\u001b[0;34m\u001b[0m\u001b[0m\n",
      "\u001b[0;32m/Users/niloofarzarifi/anaconda2/lib/python2.7/site-packages/pandas/io/parsers.pyc\u001b[0m in \u001b[0;36m_read\u001b[0;34m(filepath_or_buffer, kwds)\u001b[0m\n\u001b[1;32m    403\u001b[0m \u001b[0;34m\u001b[0m\u001b[0m\n\u001b[1;32m    404\u001b[0m     \u001b[0;31m# Create the parser.\u001b[0m\u001b[0;34m\u001b[0m\u001b[0;34m\u001b[0m\u001b[0m\n\u001b[0;32m--> 405\u001b[0;31m     \u001b[0mparser\u001b[0m \u001b[0;34m=\u001b[0m \u001b[0mTextFileReader\u001b[0m\u001b[0;34m(\u001b[0m\u001b[0mfilepath_or_buffer\u001b[0m\u001b[0;34m,\u001b[0m \u001b[0;34m**\u001b[0m\u001b[0mkwds\u001b[0m\u001b[0;34m)\u001b[0m\u001b[0;34m\u001b[0m\u001b[0m\n\u001b[0m\u001b[1;32m    406\u001b[0m \u001b[0;34m\u001b[0m\u001b[0m\n\u001b[1;32m    407\u001b[0m     \u001b[0;32mif\u001b[0m \u001b[0mchunksize\u001b[0m \u001b[0;32mor\u001b[0m \u001b[0miterator\u001b[0m\u001b[0;34m:\u001b[0m\u001b[0;34m\u001b[0m\u001b[0m\n",
      "\u001b[0;32m/Users/niloofarzarifi/anaconda2/lib/python2.7/site-packages/pandas/io/parsers.pyc\u001b[0m in \u001b[0;36m__init__\u001b[0;34m(self, f, engine, **kwds)\u001b[0m\n\u001b[1;32m    762\u001b[0m             \u001b[0mself\u001b[0m\u001b[0;34m.\u001b[0m\u001b[0moptions\u001b[0m\u001b[0;34m[\u001b[0m\u001b[0;34m'has_index_names'\u001b[0m\u001b[0;34m]\u001b[0m \u001b[0;34m=\u001b[0m \u001b[0mkwds\u001b[0m\u001b[0;34m[\u001b[0m\u001b[0;34m'has_index_names'\u001b[0m\u001b[0;34m]\u001b[0m\u001b[0;34m\u001b[0m\u001b[0m\n\u001b[1;32m    763\u001b[0m \u001b[0;34m\u001b[0m\u001b[0m\n\u001b[0;32m--> 764\u001b[0;31m         \u001b[0mself\u001b[0m\u001b[0;34m.\u001b[0m\u001b[0m_make_engine\u001b[0m\u001b[0;34m(\u001b[0m\u001b[0mself\u001b[0m\u001b[0;34m.\u001b[0m\u001b[0mengine\u001b[0m\u001b[0;34m)\u001b[0m\u001b[0;34m\u001b[0m\u001b[0m\n\u001b[0m\u001b[1;32m    765\u001b[0m \u001b[0;34m\u001b[0m\u001b[0m\n\u001b[1;32m    766\u001b[0m     \u001b[0;32mdef\u001b[0m \u001b[0mclose\u001b[0m\u001b[0;34m(\u001b[0m\u001b[0mself\u001b[0m\u001b[0;34m)\u001b[0m\u001b[0;34m:\u001b[0m\u001b[0;34m\u001b[0m\u001b[0m\n",
      "\u001b[0;32m/Users/niloofarzarifi/anaconda2/lib/python2.7/site-packages/pandas/io/parsers.pyc\u001b[0m in \u001b[0;36m_make_engine\u001b[0;34m(self, engine)\u001b[0m\n\u001b[1;32m    983\u001b[0m     \u001b[0;32mdef\u001b[0m \u001b[0m_make_engine\u001b[0m\u001b[0;34m(\u001b[0m\u001b[0mself\u001b[0m\u001b[0;34m,\u001b[0m \u001b[0mengine\u001b[0m\u001b[0;34m=\u001b[0m\u001b[0;34m'c'\u001b[0m\u001b[0;34m)\u001b[0m\u001b[0;34m:\u001b[0m\u001b[0;34m\u001b[0m\u001b[0m\n\u001b[1;32m    984\u001b[0m         \u001b[0;32mif\u001b[0m \u001b[0mengine\u001b[0m \u001b[0;34m==\u001b[0m \u001b[0;34m'c'\u001b[0m\u001b[0;34m:\u001b[0m\u001b[0;34m\u001b[0m\u001b[0m\n\u001b[0;32m--> 985\u001b[0;31m             \u001b[0mself\u001b[0m\u001b[0;34m.\u001b[0m\u001b[0m_engine\u001b[0m \u001b[0;34m=\u001b[0m \u001b[0mCParserWrapper\u001b[0m\u001b[0;34m(\u001b[0m\u001b[0mself\u001b[0m\u001b[0;34m.\u001b[0m\u001b[0mf\u001b[0m\u001b[0;34m,\u001b[0m \u001b[0;34m**\u001b[0m\u001b[0mself\u001b[0m\u001b[0;34m.\u001b[0m\u001b[0moptions\u001b[0m\u001b[0;34m)\u001b[0m\u001b[0;34m\u001b[0m\u001b[0m\n\u001b[0m\u001b[1;32m    986\u001b[0m         \u001b[0;32melse\u001b[0m\u001b[0;34m:\u001b[0m\u001b[0;34m\u001b[0m\u001b[0m\n\u001b[1;32m    987\u001b[0m             \u001b[0;32mif\u001b[0m \u001b[0mengine\u001b[0m \u001b[0;34m==\u001b[0m \u001b[0;34m'python'\u001b[0m\u001b[0;34m:\u001b[0m\u001b[0;34m\u001b[0m\u001b[0m\n",
      "\u001b[0;32m/Users/niloofarzarifi/anaconda2/lib/python2.7/site-packages/pandas/io/parsers.pyc\u001b[0m in \u001b[0;36m__init__\u001b[0;34m(self, src, **kwds)\u001b[0m\n\u001b[1;32m   1603\u001b[0m         \u001b[0mkwds\u001b[0m\u001b[0;34m[\u001b[0m\u001b[0;34m'allow_leading_cols'\u001b[0m\u001b[0;34m]\u001b[0m \u001b[0;34m=\u001b[0m \u001b[0mself\u001b[0m\u001b[0;34m.\u001b[0m\u001b[0mindex_col\u001b[0m \u001b[0;32mis\u001b[0m \u001b[0;32mnot\u001b[0m \u001b[0mFalse\u001b[0m\u001b[0;34m\u001b[0m\u001b[0m\n\u001b[1;32m   1604\u001b[0m \u001b[0;34m\u001b[0m\u001b[0m\n\u001b[0;32m-> 1605\u001b[0;31m         \u001b[0mself\u001b[0m\u001b[0;34m.\u001b[0m\u001b[0m_reader\u001b[0m \u001b[0;34m=\u001b[0m \u001b[0mparsers\u001b[0m\u001b[0;34m.\u001b[0m\u001b[0mTextReader\u001b[0m\u001b[0;34m(\u001b[0m\u001b[0msrc\u001b[0m\u001b[0;34m,\u001b[0m \u001b[0;34m**\u001b[0m\u001b[0mkwds\u001b[0m\u001b[0;34m)\u001b[0m\u001b[0;34m\u001b[0m\u001b[0m\n\u001b[0m\u001b[1;32m   1606\u001b[0m \u001b[0;34m\u001b[0m\u001b[0m\n\u001b[1;32m   1607\u001b[0m         \u001b[0;31m# XXX\u001b[0m\u001b[0;34m\u001b[0m\u001b[0;34m\u001b[0m\u001b[0m\n",
      "\u001b[0;32mpandas/_libs/parsers.pyx\u001b[0m in \u001b[0;36mpandas._libs.parsers.TextReader.__cinit__ (pandas/_libs/parsers.c:4209)\u001b[0;34m()\u001b[0m\n",
      "\u001b[0;32mpandas/_libs/parsers.pyx\u001b[0m in \u001b[0;36mpandas._libs.parsers.TextReader._setup_parser_source (pandas/_libs/parsers.c:8873)\u001b[0;34m()\u001b[0m\n",
      "\u001b[0;31mIOError\u001b[0m: File ../input/120-years-of-olympic-history-athletes-and-results/athlete_events.csv does not exist"
     ]
    }
   ],
   "source": [
    "events  = pd.read_csv(r\"../input/120-years-of-olympic-history-athletes-and-results/athlete_events.csv\")\n",
    "regions = pd.read_csv(r\"../input/120-years-of-olympic-history-athletes-and-results/noc_regions.csv\")\n",
    "events  = events.merge(regions[[\"NOC\",\"region\"]],left_on=\"NOC\",right_on=\"NOC\",how = \"left\")\n",
    "host    = pd.read_csv(r\"../input/olympic-host/olym.csv\",encoding='windows-1252')\n",
    "\n",
    "\n",
    "display (\"EVENTS\")\n",
    "display (events.head().style.set_properties(**{\"background-color\" : \"black\",\n",
    "                                               \"color\" : \"lawngreen\"}))\n"
   ]
  },
  {
   "cell_type": "code",
   "execution_count": 5,
   "metadata": {
    "_kg_hide-input": true,
    "_uuid": "06ae191a4fd88347d86efe7c2ce3c77c20a54071"
   },
   "outputs": [
    {
     "ename": "NameError",
     "evalue": "name 'events' is not defined",
     "output_type": "error",
     "traceback": [
      "\u001b[0;31m---------------------------------------------------------------------------\u001b[0m",
      "\u001b[0;31mNameError\u001b[0m                                 Traceback (most recent call last)",
      "\u001b[0;32m<ipython-input-5-41df17948fc9>\u001b[0m in \u001b[0;36m<module>\u001b[0;34m()\u001b[0m\n\u001b[1;32m      2\u001b[0m \u001b[0;34m\u001b[0m\u001b[0m\n\u001b[1;32m      3\u001b[0m \u001b[0;31m#replace gender values\u001b[0m\u001b[0;34m\u001b[0m\u001b[0;34m\u001b[0m\u001b[0m\n\u001b[0;32m----> 4\u001b[0;31m \u001b[0mevents\u001b[0m\u001b[0;34m[\u001b[0m\u001b[0;34m\"Sex\"\u001b[0m\u001b[0;34m]\u001b[0m \u001b[0;34m=\u001b[0m \u001b[0mevents\u001b[0m\u001b[0;34m[\u001b[0m\u001b[0;34m\"Sex\"\u001b[0m\u001b[0;34m]\u001b[0m\u001b[0;34m.\u001b[0m\u001b[0mmap\u001b[0m\u001b[0;34m(\u001b[0m\u001b[0;34m{\u001b[0m\u001b[0;34m\"M\"\u001b[0m\u001b[0;34m:\u001b[0m\u001b[0;34m\"MALE\"\u001b[0m\u001b[0;34m,\u001b[0m\u001b[0;34m\"F\"\u001b[0m\u001b[0;34m:\u001b[0m\u001b[0;34m\"FEMALE\"\u001b[0m\u001b[0;34m}\u001b[0m\u001b[0;34m)\u001b[0m\u001b[0;34m\u001b[0m\u001b[0m\n\u001b[0m\u001b[1;32m      5\u001b[0m \u001b[0;34m\u001b[0m\u001b[0m\n\u001b[1;32m      6\u001b[0m \u001b[0;31m#replacing strings\u001b[0m\u001b[0;34m\u001b[0m\u001b[0;34m\u001b[0m\u001b[0m\n",
      "\u001b[0;31mNameError\u001b[0m: name 'events' is not defined"
     ]
    }
   ],
   "source": [
    "#Data Manipulation\n",
    "\n",
    "#replace gender values\n",
    "events[\"Sex\"] = events[\"Sex\"].map({\"M\":\"MALE\",\"F\":\"FEMALE\"})\n",
    "\n",
    "#replacing strings\n",
    "events[\"region\"] =events[\"region\"].str.replace(\"Boliva\",\"Bolivia\")\n",
    "\n",
    "#Grouping similar sports\n",
    "def sport_category(events) :\n",
    "    \n",
    "    skating   = ['Speed Skating','Figure Skating','Short Track Speed Skating']\n",
    "    skiing    = [ 'Cross Country Skiing', 'Alpine Skiing','Nordic Combined',\n",
    "                 'Freestyle Skiing', 'Ski Jumping','Snowboarding', 'Alpinism']\n",
    "    Bobsleigh = ['Bobsleigh','Skeleton']\n",
    "    aquatics  =  ['Swimming','Synchronized Swimming','Diving','Water Polo']\n",
    "    volley    =  ['Volleyball','Beach Volleyball']\n",
    "    gymnastic =  ['Gymnastics','Rhythmic Gymnastics', 'Trampolining']\n",
    "    \n",
    "    for i in skating :\n",
    "        if events[\"Sport\"] == i :\n",
    "            return \"Skating\"\n",
    "        \n",
    "    for i in skiing :\n",
    "        if events[\"Sport\"] == i :\n",
    "            return \"Skiing\"\n",
    "    \n",
    "    for i in Bobsleigh :\n",
    "        if events[\"Sport\"] == i :\n",
    "            return \"Bobsleigh\"\n",
    "    \n",
    "    for i in aquatics :\n",
    "        if events[\"Sport\"] == i :\n",
    "            return \"Aquatics\"\n",
    "    \n",
    "    for i in volley :\n",
    "        if events[\"Sport\"] == i :\n",
    "            return \"Volley\"\n",
    "        \n",
    "    for i in gymnastic :\n",
    "        if events[\"Sport\"] == i :\n",
    "            return \"Gymnastic\"\n",
    "    \n",
    "    else : \n",
    "        return events[\"Sport\"]\n",
    "\n",
    "events[\"Sport_category\"] = events.apply(lambda events : sport_category(events) ,axis = 1)\n",
    "\n",
    "\n",
    "\n",
    "#Creating binary columns for medals\\\n",
    "def gold_m(events)  :\n",
    "    if events[\"Medal\"] == \"Gold\" :\n",
    "        return 1 \n",
    "    else :\n",
    "        return 0\n",
    "def silver_m(events)  :\n",
    "    if events[\"Medal\"] == \"Silver\" :\n",
    "        return 1 \n",
    "    else :\n",
    "        return 0\n",
    "def bronze_m(events)  :\n",
    "    if events[\"Medal\"] == \"Bronze\" :\n",
    "        return 1 \n",
    "    else :\n",
    "        return 0\n",
    "    \n",
    "events[\"Gold\"]   = events.apply(lambda events:gold_m(events),axis = 1) \n",
    "events[\"Silver\"] = events.apply(lambda events:silver_m(events),axis = 1) \n",
    "events[\"Bronze\"] = events.apply(lambda events:bronze_m(events),axis = 1) \n",
    "events[\"Total\"] = events[\"Gold\"] + events[\"Silver\"] +events[\"Bronze\"]\n",
    "\n",
    "#splitting summer and winter olympics\n",
    "\n",
    "summer = events[events[\"Season\"] == \"Summer\"]\n",
    "winter = events[events[\"Season\"] == \"Winter\"]\n",
    "\n",
    "#Host cities data manipulation\n",
    "\n",
    "host[\"Year\"] =  host[\"Year\"].fillna(method= \"ffill\")\n",
    "host[\"Year\"] = host[\"Year\"].astype(int)\n",
    "host[\"Country\"] = host[\"Country\"].str.replace(\"\\xa0\",\"\")\n",
    "host[\"Country\"] = host[\"Country\"].str.replace(\"Nazi Germany\",\"Germany\")\n",
    "host[\"Country\"] = host[\"Country\"].str.replace(\"West Germany\",\"Germany\")\n",
    "host[\"Summer (Olympiad)\"] = host[\"Summer (Olympiad)\"].fillna(\"WINTER\")\n",
    "host[\"Winter\"] = host[\"Winter\"].fillna(\"SUMMER\")\n",
    "\n",
    "\n",
    "# ##3\n",
    "def lab(host) :\n",
    "    if host[\"Summer (Olympiad)\"] == \"WINTER\" :\n",
    "        return \"WINTER\"\n",
    "    if host[\"Winter\"] == \"SUMMER\" :\n",
    "        return \"SUMMER\"\n",
    "    \n",
    "host[\"season\"] = host.apply(lambda host:lab(host),axis = 1)\n",
    "host = host[['City', 'Country',  'Year', 'latitude','longitude', 'season']]\n",
    "\n",
    "\n",
    "host_s = host[host[\"season\"] == \"SUMMER\"]\n",
    "host_w = host[host[\"season\"] == \"WINTER\"]"
   ]
  },
  {
   "cell_type": "markdown",
   "metadata": {
    "_uuid": "9593b47572132d45b6fdca947650bc228fea4b89"
   },
   "source": [
    "## Summer Games Index"
   ]
  },
  {
   "cell_type": "code",
   "execution_count": 6,
   "metadata": {
    "_kg_hide-input": true,
    "_uuid": "784cae10c29962001b57f64af1967e298789ea04"
   },
   "outputs": [
    {
     "name": "stdout",
     "output_type": "stream",
     "text": [
      "Summer Games\n",
      "-------------\n"
     ]
    },
    {
     "ename": "NameError",
     "evalue": "name 'summer' is not defined",
     "output_type": "error",
     "traceback": [
      "\u001b[0;31m---------------------------------------------------------------------------\u001b[0m",
      "\u001b[0;31mNameError\u001b[0m                                 Traceback (most recent call last)",
      "\u001b[0;32m<ipython-input-6-684496fdafce>\u001b[0m in \u001b[0;36m<module>\u001b[0;34m()\u001b[0m\n\u001b[1;32m      7\u001b[0m \u001b[0;32mprint\u001b[0m \u001b[0;34m(\u001b[0m\u001b[0;34m\"Summer Games\"\u001b[0m\u001b[0;34m)\u001b[0m\u001b[0;34m\u001b[0m\u001b[0m\n\u001b[1;32m      8\u001b[0m \u001b[0;32mprint\u001b[0m \u001b[0;34m(\u001b[0m\u001b[0;34m\"-------------\"\u001b[0m\u001b[0;34m)\u001b[0m\u001b[0;34m\u001b[0m\u001b[0m\n\u001b[0;32m----> 9\u001b[0;31m \u001b[0;32mprint\u001b[0m\u001b[0;34m(\u001b[0m\u001b[0mBLUE\u001b[0m\u001b[0;34m+\u001b[0m\u001b[0mUNDERLINE\u001b[0m\u001b[0;34m+\u001b[0m\u001b[0mBOLD\u001b[0m\u001b[0;34m+\u001b[0m\u001b[0;34m\"Games           : \"\u001b[0m \u001b[0;34m,\u001b[0m \u001b[0msummer\u001b[0m\u001b[0;34m[\u001b[0m\u001b[0;34m\"Year\"\u001b[0m\u001b[0;34m]\u001b[0m\u001b[0;34m.\u001b[0m\u001b[0mnunique\u001b[0m\u001b[0;34m(\u001b[0m\u001b[0;34m)\u001b[0m\u001b[0;34m)\u001b[0m\u001b[0;34m\u001b[0m\u001b[0m\n\u001b[0m\u001b[1;32m     10\u001b[0m \u001b[0;32mprint\u001b[0m\u001b[0;34m(\u001b[0m\u001b[0;34m\"Host Countries  : \"\u001b[0m\u001b[0;34m,\u001b[0m  \u001b[0mhost\u001b[0m\u001b[0;34m[\u001b[0m\u001b[0mhost\u001b[0m\u001b[0;34m[\u001b[0m\u001b[0;34m\"season\"\u001b[0m\u001b[0;34m]\u001b[0m \u001b[0;34m==\u001b[0m \u001b[0;34m\"SUMMER\"\u001b[0m\u001b[0;34m]\u001b[0m\u001b[0;34m[\u001b[0m\u001b[0;34m\"Country\"\u001b[0m\u001b[0;34m]\u001b[0m\u001b[0;34m.\u001b[0m\u001b[0mnunique\u001b[0m\u001b[0;34m(\u001b[0m\u001b[0;34m)\u001b[0m\u001b[0;34m)\u001b[0m\u001b[0;34m\u001b[0m\u001b[0m\n\u001b[1;32m     11\u001b[0m \u001b[0;32mprint\u001b[0m\u001b[0;34m(\u001b[0m\u001b[0;34m\"No of Sports    : \"\u001b[0m\u001b[0;34m,\u001b[0m  \u001b[0msummer\u001b[0m\u001b[0;34m[\u001b[0m\u001b[0;34m\"Sport\"\u001b[0m\u001b[0;34m]\u001b[0m\u001b[0;34m.\u001b[0m\u001b[0mnunique\u001b[0m\u001b[0;34m(\u001b[0m\u001b[0;34m)\u001b[0m\u001b[0;34m)\u001b[0m\u001b[0;34m\u001b[0m\u001b[0m\n",
      "\u001b[0;31mNameError\u001b[0m: name 'summer' is not defined"
     ]
    }
   ],
   "source": [
    "BLUE = '\\033[94m'\n",
    "BOLD = '\\033[1m'\n",
    "UNDERLINE = '\\033[4m'\n",
    "END = '\\033[0m'\n",
    "\n",
    "##summer \n",
    "print (\"Summer Games\")\n",
    "print (\"-------------\")\n",
    "print(BLUE+UNDERLINE+BOLD+\"Games           : \" , summer[\"Year\"].nunique())\n",
    "print(\"Host Countries  : \",  host[host[\"season\"] == \"SUMMER\"][\"Country\"].nunique())\n",
    "print(\"No of Sports    : \",  summer[\"Sport\"].nunique())\n",
    "print(\"No of Events    : \",  summer[\"Event\"].nunique())\n",
    "s_male_ev   = summer[summer[\"Sex\"] == \"MALE\"][\"Event\"].unique().tolist()\n",
    "s_female_ev = summer[summer[\"Sex\"] == \"FEMALE\"][\"Event\"].unique().tolist()\n",
    "s_both_ev   = [x for x in s_male_ev if x in s_female_ev]\n",
    "s_male_events   = [x for x in s_male_ev if x not in s_both_ev]\n",
    "s_female_events = [x for x in s_female_ev if x not in s_both_ev]\n",
    "print(\"Events for female athletes : \" , len(s_female_events))\n",
    "print(\"Events for male athletes   : \" , len(s_male_events))\n",
    "print(\"Events for both genders    : \" , len(s_both_ev))\n",
    "print(\"Total NOC's     : \",  summer[\"NOC\"].nunique())\n",
    "print(\"Total Participant's  : \",  summer[\"ID\"].nunique())\n",
    "print(\"Female Participant's : \",  summer[summer[\"Sex\"] == \"FEMALE\"][\"ID\"].nunique())\n",
    "print(\"Male Participant's   : \",  summer[summer[\"Sex\"] == \"MALE\"][\"ID\"].nunique())\n",
    "print(\"Youngest Participant : \",summer.loc[summer[\"Age\"].idxmin()][\"Name\"],\n",
    "      \" , Age - \" , (summer.loc[summer[\"Age\"].idxmin()][\"Age\"]).astype(int),\n",
    "      \" , Country - \" ,summer.loc[summer[\"Age\"].idxmin()][\"region\"] ,\n",
    "      \" , Year - \" ,summer.loc[summer[\"Age\"].idxmin()][\"Year\"])\n",
    "print(\"Oldest Participant : \",summer.loc[summer[\"Age\"].idxmax()][\"Name\"],\n",
    "      \" , Age - \" , (summer.loc[summer[\"Age\"].idxmax()][\"Age\"]).astype(int),\n",
    "      \" , Country - \" ,summer.loc[summer[\"Age\"].idxmax()][\"region\"] ,\n",
    "      \" , Year - \" ,summer.loc[summer[\"Age\"].idxmax()][\"Year\"])\n",
    "s_med  = summer.groupby(\"Name\")[\"Total\"].sum().reset_index()\n",
    "print(\"Most Medals (Athlete) : \", s_med.loc[s_med[\"Total\"].idxmax()][\"Name\"])\n",
    "s_med_c = summer.groupby(\"region\")[\"Total\"].sum().reset_index()\n",
    "print(\"Most Medals (Country) : \",s_med_c.loc[s_med_c[\"Total\"].idxmax()][\"region\"])\n"
   ]
  },
  {
   "cell_type": "markdown",
   "metadata": {
    "_uuid": "e06eefd225e9c2a022f5bcbb712dead70b5d8668"
   },
   "source": [
    "## Winter Games Index"
   ]
  },
  {
   "cell_type": "code",
   "execution_count": null,
   "metadata": {
    "_kg_hide-input": true,
    "_uuid": "0d56445e4fe7ab896229a70df30fe5aeaad11992"
   },
   "outputs": [],
   "source": [
    "\n",
    "##winter\n",
    "print (\"Winter Games\")\n",
    "print (\"-------------\")\n",
    "print(BLUE+UNDERLINE+BOLD+\"Games           : \" , winter[\"Year\"].nunique())\n",
    "print(\"Host Countries  : \",  host[host[\"season\"] == \"WINTER\"][\"Country\"].nunique())\n",
    "print(\"No of Sports    : \",  winter[\"Sport\"].nunique())\n",
    "print(\"No of Events    : \",  winter[\"Event\"].nunique())\n",
    "\n",
    "w_male_ev   = winter[winter[\"Sex\"] == \"MALE\"][\"Event\"].unique().tolist()\n",
    "w_female_ev = winter[winter[\"Sex\"] == \"FEMALE\"][\"Event\"].unique().tolist()\n",
    "w_both_ev   = [x for x in w_male_ev if x in w_female_ev]\n",
    "w_male_events   = [x for x in w_male_ev if x not in w_both_ev]\n",
    "w_female_events = [x for x in w_female_ev if x not in w_both_ev]\n",
    "print(\"Events for female athletes : \" , len(w_female_events))\n",
    "print(\"Events for male athletes   : \" , len(w_male_events))\n",
    "print(\"Events for both genders    : \" , len(w_both_ev))\n",
    "\n",
    "print(\"Total NOC's     : \",  winter[\"NOC\"].nunique())\n",
    "print(\"Total Participant's  : \",  winter[\"ID\"].nunique())\n",
    "print(\"Female Participant's : \",  winter[winter[\"Sex\"] == \"FEMALE\"][\"ID\"].nunique())\n",
    "print(\"Male Participant's   : \",  winter[winter[\"Sex\"] == \"MALE\"][\"ID\"].nunique())\n",
    "print(\"Youngest Participant : \",winter.loc[winter[\"Age\"].idxmin()][\"Name\"],\n",
    "      \" , Age - \" , (winter.loc[winter[\"Age\"].idxmin()][\"Age\"]).astype(int),\n",
    "      \" , Country - \" ,winter.loc[winter[\"Age\"].idxmin()][\"region\"] ,\n",
    "      \" , Year - \" ,winter.loc[winter[\"Age\"].idxmin()][\"Year\"])\n",
    "print(\"Oldest Participant : \",winter.loc[winter[\"Age\"].idxmax()][\"Name\"],\n",
    "      \" , Age - \" , (winter.loc[winter[\"Age\"].idxmax()][\"Age\"]).astype(int),\n",
    "      \" , Country - \" ,winter.loc[winter[\"Age\"].idxmax()][\"region\"] ,\n",
    "      \" , Year - \" ,winter.loc[winter[\"Age\"].idxmax()][\"Year\"])\n",
    "w_med  = winter.groupby(\"Name\")[\"Total\"].sum().reset_index()\n",
    "print(\"Most Medals (Athlete) : \", w_med.loc[w_med[\"Total\"].idxmax()][\"Name\"])\n",
    "w_med_c = winter.groupby(\"region\")[\"Total\"].sum().reset_index()\n",
    "print(\"Most Medals (Country) : \",w_med_c.loc[w_med_c[\"Total\"].idxmax()][\"region\"])"
   ]
  },
  {
   "cell_type": "markdown",
   "metadata": {
    "_uuid": "25c21c91a9b8d73d6e6e419bde33fdd158db484e"
   },
   "source": [
    "# Athletes participation for Summer and Winter Olympics over Years\n",
    "* Summer olympics : \n",
    "Summer Olympics are the Olympic Games which are principally held in the summer season. The games and sporting events organized at the Summer Olympics are totally in contrast to the ones held at Winter Olympics. It is also fair to say that this is the competition which stages the most competitive and the most widely followed sporting events of the world. These events include the likes of athletics, football, basketball, swimming, weightlifting, hockey, volleyball, badminton, gymnastics, etc. \n",
    "\n",
    "* Winter Olympics : \n",
    "The Winter Olympics, as the name suggests, are held particularly in the winter season. The games played are specific to this kind of season, and are also called as winter sports. Some of the most popular winter sports such as ice-skating, figure skating, ice hockey, snowboarding, skiing, etc. gather a world audience through the Winter Olympics.\n",
    "\n",
    "* Interestingly, both these editions were held in the same years, until the year 1992, before the IOC (International Olympic committee) decided to organize the two events at a gap of every two years. As a consequence, the next Winter Olympics was held in the year 1994, instead of being held in the year 1996.\n"
   ]
  },
  {
   "cell_type": "code",
   "execution_count": null,
   "metadata": {
    "_kg_hide-input": true,
    "_uuid": "b91733805ee1c5001fed82afe43261520d67ba0f"
   },
   "outputs": [],
   "source": [
    "sum_c = summer.groupby([\"Year\"])[\"ID\"].nunique().reset_index()\n",
    "win_c = winter.groupby([\"Year\"])[\"ID\"].nunique().reset_index()\n",
    "\n",
    "fig = plt.figure(figsize=(13,16))\n",
    "plt.subplot(211)\n",
    "ax = sns.pointplot(x = sum_c[\"Year\"] , y = sum_c[\"ID\"],\n",
    "                   color=\"white\",markers=\"h\")\n",
    "plt.xticks(rotation = 60)\n",
    "ax.set_facecolor(\"k\")\n",
    "plt.grid(True,alpha=.2)\n",
    "plt.ylabel(\"count\")\n",
    "plt.title(\"Athletes over years for Summer Olympics\",color=\"b\")\n",
    "\n",
    "plt.subplot(212)\n",
    "ax1 = sns.pointplot(x = win_c[\"Year\"] , y = win_c[\"ID\"],\n",
    "                    color = \"red\",markers=\"h\")\n",
    "plt.xticks(rotation = 60)\n",
    "ax1.set_facecolor(\"k\")\n",
    "plt.grid(True,alpha=.2)\n",
    "plt.ylabel(\"count\")\n",
    "plt.title(\"Athletes over years for Winter Olympics\",color=\"b\")\n",
    "plt.subplots_adjust(hspace = .3)\n",
    "plt.show()"
   ]
  },
  {
   "cell_type": "markdown",
   "metadata": {
    "_uuid": "77c06173ea48ed3871b59b2afe3dfadbaa94a6bc"
   },
   "source": [
    "# Athletes participation by gender over years for Olympics\n",
    "Women participated for the first time at the 1900 Paris Games with the inclusion of women's events in lawn tennis and golf. Women's athletics and gymnastics debuted at the 1928 Olympics. Over time more women's events were added. In 2012, women's boxing was introduced, resulting in no remaining sports that do not include events for women."
   ]
  },
  {
   "cell_type": "code",
   "execution_count": null,
   "metadata": {
    "_kg_hide-input": true,
    "_uuid": "246da279665c4d5c06bac12371b768d50c9d5194"
   },
   "outputs": [],
   "source": [
    "sum_gc = summer.groupby([\"Year\",\"Sex\"])[\"ID\"].nunique().reset_index()\n",
    "win_gc = winter.groupby([\"Year\",\"Sex\"])[\"ID\"].nunique().reset_index()\n",
    "\n",
    "fig = plt.figure(figsize=(13,16))\n",
    "plt.subplot(211)\n",
    "ax = sns.pointplot(x = sum_gc[\"Year\"] , y = sum_gc[\"ID\"],\n",
    "                   markers=\"h\" , hue = sum_gc[\"Sex\"],palette = [\"r\",\"b\"])\n",
    "plt.grid(True)\n",
    "plt.xticks(rotation = 60)\n",
    "ax.set_facecolor(\"lightgrey\")\n",
    "plt.ylabel(\"count\")\n",
    "plt.title(\"Athletes by gender over years for Summer Olympics\",color=\"b\")\n",
    "plt.legend(loc = \"best\" ,prop={\"size\":15})\n",
    "\n",
    "plt.subplot(212)\n",
    "ax1 = sns.pointplot(x = win_gc[\"Year\"] , y = win_gc[\"ID\"],\n",
    "                    markers=\"h\",palette = [\"b\",\"r\"],\n",
    "                   hue = win_gc[\"Sex\"])\n",
    "plt.xticks(rotation = 60)\n",
    "ax1.set_facecolor(\"lightgrey\")\n",
    "plt.grid(True)\n",
    "plt.ylabel(\"count\")\n",
    "plt.title(\"Athletes by gender over years for Winter Olympics\",color=\"b\")\n",
    "plt.legend(loc = \"best\" ,prop={\"size\":15})\n",
    "plt.subplots_adjust(hspace = .3)\n",
    "plt.show()\n"
   ]
  },
  {
   "cell_type": "markdown",
   "metadata": {
    "_uuid": "5b38e98997044f9197ad387c19dd93331c247651"
   },
   "source": [
    "# Gender Distribution for Summer and Winter Olympics\n",
    "Winter Olympics have higher female percent participation compared to summer olympics"
   ]
  },
  {
   "cell_type": "code",
   "execution_count": null,
   "metadata": {
    "_kg_hide-input": true,
    "_uuid": "57272ab613e6de30baf1c67f9ce9373c9a0abfc9"
   },
   "outputs": [],
   "source": [
    "plt.figure(figsize=(13,6))\n",
    "plt.subplot(121)\n",
    "summer.groupby(\"Sex\")[\"ID\"].nunique().plot.pie(autopct = \"%1.0f%%\",\n",
    "                                               wedgeprops = {\"linewidth\":2,\"edgecolor\":\"w\"},\n",
    "                                              explode = [0,.01],shadow = True , \n",
    "                                               colors = [\"royalblue\",\"lawngreen\"]) \n",
    "plt.ylabel(\"\")\n",
    "circ = plt.Circle((0,0),.7,color = \"white\")\n",
    "plt.gca().add_artist(circ)\n",
    "plt.title(\"SUMMER OLYMPICS\")\n",
    "\n",
    "plt.subplot(122)\n",
    "winter.groupby(\"Sex\")[\"ID\"].nunique().plot.pie(autopct = \"%1.0f%%\",\n",
    "                                               wedgeprops = {\"linewidth\":2,\"edgecolor\":\"w\"},\n",
    "                                              explode = [0,.01],shadow = True , \n",
    "                                               colors = [\"royalblue\",\"lawngreen\"]) \n",
    "plt.ylabel(\"\")\n",
    "circ = plt.Circle((0,0),.7,color = \"white\")\n",
    "plt.gca().add_artist(circ)\n",
    "plt.title(\"WINTER OLYMPICS\")\n",
    "\n",
    "plt.show()"
   ]
  },
  {
   "cell_type": "markdown",
   "metadata": {
    "_uuid": "9d4a70432e8fd67bcf5fb411c61d4ea6852ebd2f"
   },
   "source": [
    "# Countries participation at the Olympic Games\n",
    "* Nations, as represented by National Olympic Committees (NOCs), that have participated in the Summer Olympic Games between 1896 and 2016. As of the 2016 Games, all of the current  NOCs have participated in at least one edition of the Olympic Games, and athletes from Australia , France, Great Britain, Greece and Switzerland have competed in all  Summer Olympic Games."
   ]
  },
  {
   "cell_type": "code",
   "execution_count": null,
   "metadata": {
    "_kg_hide-input": true,
    "_uuid": "60729e53058ed98b8cdc9c06f6f5566ed9ca42f9"
   },
   "outputs": [],
   "source": [
    "plt.figure(figsize=(12,16))\n",
    "plt.subplot(211)\n",
    "ax = summer.groupby(\"Year\")[\"NOC\"].nunique().plot(kind = \"bar\",\n",
    "                                                 colors = sns.color_palette(\"husl\"),\n",
    "                                                 linewidth = 1,\n",
    "                                                  edgecolor=  \"w\"*summer[\"Year\"].nunique())\n",
    "plt.xticks(rotation = 60)\n",
    "ax.set_facecolor(\"lightgrey\")\n",
    "plt.ylabel(\"count\")\n",
    "plt.title(\"Countries participated at the Summer Olympic Games\")\n",
    "plt.grid(True,alpha=.3)\n",
    "\n",
    "plt.subplot(212)\n",
    "ax1 = winter.groupby(\"Year\")[\"NOC\"].nunique().plot(kind = \"bar\",\n",
    "                                                 colors = sns.color_palette(\"husl\"),\n",
    "                                                 linewidth = 1,\n",
    "                                                   edgecolor=  \"w\"*summer[\"Year\"].nunique())\n",
    "plt.xticks(rotation = 60)\n",
    "ax1.set_facecolor(\"lightgrey\")\n",
    "plt.title(\"Countries participated at the Winter Olympic Games\")\n",
    "plt.grid(True,alpha=.3)\n",
    "plt.show()\n"
   ]
  },
  {
   "cell_type": "markdown",
   "metadata": {
    "_uuid": "fa6eb8b7248360edc8ac3c292741beeb43142239"
   },
   "source": [
    "# Nations with highest number of participation in olympics"
   ]
  },
  {
   "cell_type": "code",
   "execution_count": null,
   "metadata": {
    "_kg_hide-input": true,
    "_uuid": "9ff25bdce38a722736d05f87f3d6c63148920e91"
   },
   "outputs": [],
   "source": [
    "yr_cn = pd.crosstab(summer[\"region\"],summer[\"Year\"]).reset_index()\n",
    "cols = yr_cn.columns[1:]\n",
    "\n",
    "for i in cols:\n",
    "    yr_cn[i] = np.where(yr_cn[i] > 0 ,1,0)\n",
    "    \n",
    "yr_cn[\"total\"] = yr_cn[cols].sum(axis = 1)\n",
    "yr_cn = yr_cn.sort_values(by = \"total\",ascending=False)\n",
    "\n",
    "\n",
    "plt.figure(figsize=(12,12))\n",
    "plt.subplot(121)\n",
    "ax = sns.barplot(\"total\",\"region\",data=yr_cn[:25],\n",
    "                 linewidth = 1,edgecolor = \"k\"*25,\n",
    "                 palette = \"rainbow\"\n",
    "                )\n",
    "\n",
    "for i,j in enumerate(yr_cn[\"total\"][:25].astype(str) + \" times\"):\n",
    "    ax.text(.7,i,j,fontsize = 12)\n",
    "    \n",
    "plt.title(\"countries - summer olympics\")\n",
    "\n",
    "##\n",
    "yr_cn1 = pd.crosstab(winter[\"region\"],winter[\"Year\"]).reset_index()\n",
    "cols = yr_cn1.columns[1:]\n",
    "\n",
    "for i in cols:\n",
    "    yr_cn1[i] = np.where(yr_cn1[i] > 0 ,1,0)\n",
    "    \n",
    "yr_cn1[\"total\"] = yr_cn1[cols].sum(axis = 1)\n",
    "yr_cn1 = yr_cn1.sort_values(by = \"total\",ascending=False)\n",
    "\n",
    "\n",
    "\n",
    "plt.subplot(122)\n",
    "ax = sns.barplot(\"total\",\"region\",data=yr_cn1[:25],\n",
    "                 linewidth = 1,edgecolor = \"k\"*25,\n",
    "                 palette = \"rainbow\"\n",
    "                )\n",
    "\n",
    "for i,j in enumerate(yr_cn1[\"total\"][:25].astype(str) + \" times\"):\n",
    "    ax.text(.7,i,j,fontsize = 12)\n",
    "    \n",
    "plt.title(\"countries - winter olympics\")\n",
    "plt.ylabel(\"\")\n",
    "plt.subplots_adjust(wspace = .3)\n",
    "plt.show()"
   ]
  },
  {
   "cell_type": "markdown",
   "metadata": {
    "_uuid": "4e36be82a83b3944c42b8a57bb2a4855877df962"
   },
   "source": [
    "## Countries participation in summer olympics\n",
    "*  athletes from Australia , France, Great Britain, Greece and Switzerland have competed in all  Summer Olympic Games."
   ]
  },
  {
   "cell_type": "code",
   "execution_count": null,
   "metadata": {
    "_kg_hide-input": true,
    "_uuid": "7cb2b3d86ac49e799e81662bbf7bb07a7a5a1297"
   },
   "outputs": [],
   "source": [
    "reg_part_s = yr_cn[[\"region\",\"total\"]]\n",
    "trace = go.Choropleth(locations = reg_part_s[\"region\"],\n",
    "                      locationmode=\"country names\",\n",
    "                      z = reg_part_s[\"total\"],\n",
    "                      colorscale = \"Picnic\",\n",
    "                      autocolorscale = False,\n",
    "                      reversescale = True,\n",
    "                      marker = dict(line = dict(width = 1,\n",
    "                                                color = \"black\")\n",
    "                                   ),\n",
    "                      colorbar = dict(title = \"Count of Participation\",\n",
    "                                      titleside = \"right\"\n",
    "                                     ),\n",
    "                     )\n",
    "\n",
    "data = [trace]\n",
    "\n",
    "layout = go.Layout(dict(title = \"Countries participation in summer olympics\",\n",
    "                        geo = dict(showframe = True,\n",
    "                                   showocean = True,\n",
    "                                   oceancolor = \"#10223A\",\n",
    "                                   bgcolor = \"rgb(255, 204, 51)\", \n",
    "                                   showcoastlines = True,\n",
    "                                   projection = dict(type = 'equirectangular'),\n",
    "                                  ),\n",
    "                       )\n",
    "                  )\n",
    "\n",
    "fig = go.Figure(data=data,layout=layout)\n",
    "py.iplot(fig)\n"
   ]
  },
  {
   "cell_type": "markdown",
   "metadata": {
    "_uuid": "a2294c2721efbeaa6219b164a57df7a0849ced30"
   },
   "source": [
    "## Countries participation in winter olympics\n",
    "* Austria, Canada, Finland, France, Great Britain, Hungary, Italy, Norway, Poland, Sweden, Switzerland, and the United States have participated in all twenty-two Winter Games to date. Including continuity from Czechoslovakia, the Czech Republic and Slovakia have also been represented in every edition."
   ]
  },
  {
   "cell_type": "code",
   "execution_count": null,
   "metadata": {
    "_kg_hide-input": true,
    "_uuid": "b3b4de4baaee08180960d84a71e2da84c7f7a322"
   },
   "outputs": [],
   "source": [
    "reg_part_w = yr_cn1[[\"region\",\"total\"]]\n",
    "trace = go.Choropleth(locations = reg_part_w[\"region\"],\n",
    "                      locationmode=\"country names\",\n",
    "                      z = reg_part_w[\"total\"],\n",
    "                      text = reg_part_w[\"region\"],\n",
    "                      colorscale = \"Picnic\",\n",
    "                      autocolorscale = False,\n",
    "                      reversescale = True,\n",
    "                      marker = dict(line = dict(width = 1,\n",
    "                                                color = \"black\")\n",
    "                                   ),\n",
    "                      colorbar = dict(title = \"Count of Participation\",\n",
    "                                      titleside = \"right\"\n",
    "                                     ),\n",
    "                     )\n",
    "\n",
    "data = [trace]\n",
    "\n",
    "layout = go.Layout(dict(title = \"Countries participation in winter olympics\",\n",
    "                        geo = dict(showframe = True,\n",
    "                                   showocean = True,\n",
    "                                   showcountries = True,\n",
    "                                   oceancolor = \"#10223A\",\n",
    "                                   bgcolor = \"rgb(255, 204, 51)\",\n",
    "                                   showcoastlines = True,\n",
    "                                   projection = dict(type = \"equirectangular\")\n",
    "                                  ),\n",
    "                       )\n",
    "                  )\n",
    "\n",
    "fig = go.Figure(data=data,layout=layout)\n",
    "py.iplot(fig)"
   ]
  },
  {
   "cell_type": "markdown",
   "metadata": {
    "_uuid": "4de865d68a53354cda6ec77ec0ecb9fc33911dba"
   },
   "source": [
    "## Nations that have hosted the Olympics\n",
    "There have been 28 Summer Olympic Games held in 23 cities, and 23 Winter Olympic Games held in 20 cities. In addition, three summer and two winter editions of the Games were scheduled to take place but later cancelled due to war: Berlin (summer) in 1916; Tokyo/Helsinki (summer) and Sapporo/Garmisch-Partenkirchen (winter) in 1940; and London (summer) and Cortina d'Ampezzo, Italy (winter) in 1944. The 1906 Summer Olympics were officially sanctioned and held in Athens. However, in 1949, the International Olympic Committee (IOC), decided to unrecognize the 1906 Games"
   ]
  },
  {
   "cell_type": "code",
   "execution_count": null,
   "metadata": {
    "_kg_hide-input": true,
    "_uuid": "5d7bb01aea74bdcdd05268bcdc84a24a07d45d4e"
   },
   "outputs": [],
   "source": [
    "hst_c_s = host_s[\"Country\"].value_counts().reset_index()\n",
    "\n",
    "trace = go.Choropleth(locations = hst_c_s[\"index\"],\n",
    "                       locationmode=\"country names\",\n",
    "                       z = hst_c_s[\"Country\"],\n",
    "                       colorscale = \"Portland\",\n",
    "                       marker = dict(line = dict(width = 1,color = \"black\")),\n",
    "                       colorbar = dict(title = \"Count of hosted countries\",\n",
    "                                       titleside = \"right\"\n",
    "                                      )\n",
    "                     )\n",
    "\n",
    "layout = go.Layout(dict(title = \"Nations that have hosted the Summer Olympics\",\n",
    "                        geo = dict(showframe = False,\n",
    "                                   bgcolor = \"white\",\n",
    "                                   showocean = True,\n",
    "                                   showcountries =True,\n",
    "                                   showcoastlines = True,\n",
    "                                   projection = dict(type = \"equirectangular\")\n",
    "                                  ),\n",
    "                       ),\n",
    "                  )\n",
    "\n",
    "data  = [trace]\n",
    "\n",
    "fig = go.Figure(data=data,layout=layout)\n",
    "py.iplot(fig)\n"
   ]
  },
  {
   "cell_type": "code",
   "execution_count": null,
   "metadata": {
    "_kg_hide-input": true,
    "_uuid": "8eb9b45eb1974d6669f2abb11adb8a66e3d7dbf2"
   },
   "outputs": [],
   "source": [
    "hst_c_w = host_w[\"Country\"].value_counts().reset_index()\n",
    "\n",
    "\n",
    "trace = go.Choropleth(locations = hst_c_w[\"index\"],\n",
    "                       locationmode=\"country names\",\n",
    "                       z = hst_c_w[\"Country\"],\n",
    "                       colorscale = \"Portland\",\n",
    "                       marker = dict(line = dict(width = 1,color = \"black\")),\n",
    "                       colorbar = dict(title = \"Count of hosted countries\",\n",
    "                                       titleside = \"right\"\n",
    "                                      )\n",
    "                     )\n",
    "\n",
    "layout = go.Layout(dict(title = \"Nations that have hosted the Winter Olympics\",\n",
    "                        geo = dict(showframe = False,\n",
    "                                   showcountries =True,\n",
    "                                   showocean = True,\n",
    "                                   showcoastlines = True,\n",
    "                                   projection = dict(type = 'equirectangular')\n",
    "                                  ),\n",
    "                       ),\n",
    "                  )\n",
    "\n",
    "data  = [trace]\n",
    "\n",
    "fig = go.Figure(data=data,layout=layout)\n",
    "py.iplot(fig)"
   ]
  },
  {
   "cell_type": "markdown",
   "metadata": {
    "_uuid": "0993221984d9d797155877f04720f630b03f965b"
   },
   "source": [
    "## Countries that hosted highest number of olympics\n",
    "* The United States leads the world by hosting 8 Olympic Games including 4 Summer Olympics and 4 Winter Olympics (1904, 1932, 1984, 1996, 1932, 1960, 1980, 2002). US Summer Olympic venues have included St. Louis, Atlanta, and two times in Los Angeles. Winter Games have been held twice at Lake Placid, and once each in Squaw Valley and Salt Lake City.\n",
    "* France is second in the list, hosting the Olympics five times (1900, 1924, 1924, 1968, 1992).  France has hosted two Summer Olympics in Paris, and Winter Games in Chamonix, Grenoble, and Albertville.\n",
    "* The United Kingdom is in third as a three-time Olympic host (1908, 1948, 2012).  All three Olympic Games were Summer Games, and all were hosted in the city of London.\n",
    "* Japan is  3-time Olympic host (1964, 1972, 1998).  Both of these Summer Games were hosted in Tokyo, and Winter Games were hosted in Nagano and Sapporo.\n",
    "* Canada is as a three-time Olympic host (1976, 1988, 2010). Montreal has hosted a Summer Games, and Vancouver and Calgary have each hosted a Winter Games venue.\n",
    "* Italy is  three-time Olympic host (1960, 1956, 2006). A Summer Games was held in Rome, while Winter Games have been held in Turin and Cortina d'Ampezzo.\n",
    "* Germany is three-time Olympic host (1936, 1972, 1936). Munich and Berlin have each hosted a Summer Games Venue, while the 1936 Winter Olympics were held at Garmisch-Partenkirchin."
   ]
  },
  {
   "cell_type": "code",
   "execution_count": null,
   "metadata": {
    "_kg_hide-input": true,
    "_uuid": "84715e06df9665c61857d334e8cad386d6022185"
   },
   "outputs": [],
   "source": [
    "sns.set_style(\"darkgrid\")\n",
    "host_s[\"Year\"] = host_s[\"Year\"].astype(str)\n",
    "hs = host_s.groupby(\"Country\")[\"Year\"].apply(\" , \".join).reset_index()\n",
    "hs1 = host_s[\"Country\"].value_counts().reset_index()\n",
    "h_s = hs.merge(hs1,left_on = \"Country\",right_on = \"index\",how = \"left\")\n",
    "h_s = h_s.sort_values(by = \"Country_y\",ascending=False)\n",
    "\n",
    "plt.figure(figsize=(8,10))\n",
    "ax = sns.barplot(\"Country_y\",\"Country_x\",\n",
    "                 data=h_s ,linewidth = 1,\n",
    "                 palette = \"summer\",\n",
    "                 edgecolor = \"k\"*h_s[\"Country_x\"].nunique())\n",
    "for i,j in enumerate(\"Years : \" + h_s[\"Year\"]) :\n",
    "    ax.text(.1,i,j,fontsize = 12)\n",
    "plt.grid(True)\n",
    "plt.xticks(np.arange(0,5,1))\n",
    "plt.xlabel(\"count\")\n",
    "plt.ylabel(\"country\")\n",
    "plt.title(\"Countries that hosted highest number of summer olympics\")\n",
    "plt.show()"
   ]
  },
  {
   "cell_type": "code",
   "execution_count": null,
   "metadata": {
    "_kg_hide-input": true,
    "_uuid": "75e9b8346e728851b9392dcce8a328be73c356a5"
   },
   "outputs": [],
   "source": [
    "host_w[\"Year\"] = host_w[\"Year\"].astype(str)\n",
    "hw = host_w.groupby(\"Country\")[\"Year\"].apply(\" , \".join).reset_index()\n",
    "hw1 = host_w[\"Country\"].value_counts().reset_index()\n",
    "h_w = hw.merge(hw1,left_on = \"Country\",right_on = \"index\",how = \"left\")\n",
    "h_w = h_w.sort_values(by = \"Country_y\",ascending=False)\n",
    "\n",
    "plt.figure(figsize=(8,8))\n",
    "ax = sns.barplot(\"Country_y\",\"Country_x\",\n",
    "                 data=h_w ,linewidth = 1,\n",
    "                 palette = \"winter\",\n",
    "                 edgecolor = \"k\"*h_w[\"Country_x\"].nunique())\n",
    "for i,j in enumerate(\"Years : \" + h_w[\"Year\"]) :\n",
    "    ax.text(.1,i,j,fontsize = 12)\n",
    "plt.grid(True)\n",
    "plt.xticks(np.arange(0,5,1))\n",
    "plt.xlabel(\"count\")\n",
    "plt.ylabel(\"country\")\n",
    "plt.title(\"Countries that hosted highest number of winter olympics\")\n",
    "plt.show()"
   ]
  },
  {
   "cell_type": "markdown",
   "metadata": {
    "_uuid": "543b06908ba82189663da4b529a179d45a9090b8"
   },
   "source": [
    "## Olympic Games host cities\n",
    "* Map of host cities and countries of the  summer  and winter Olympics. "
   ]
  },
  {
   "cell_type": "code",
   "execution_count": null,
   "metadata": {
    "_kg_hide-input": true,
    "_uuid": "06f8b2d0daa40b42e34a2ee8c79f2f65c2850ca2"
   },
   "outputs": [],
   "source": [
    "cit_ll = host.groupby([\"Country\",\"latitude\",\"longitude\"])[\"City\"].value_counts().to_frame()\n",
    "cit_ll = cit_ll.rename(columns={\"City\" : \"Count\"})\n",
    "cit_ll = cit_ll.reset_index().sort_values(by = \"Count\",ascending =False)\n",
    "host[\"Year\"] = host[\"Year\"].astype(str)\n",
    "x = host.groupby(\"City\")[\"Year\"].apply(\",\".join).reset_index()\n",
    "cit_ll= cit_ll.merge(x,left_on=\"City\",right_on=\"City\",how =\"left\")\n",
    "cit_ll\n",
    "cit_ll\n",
    "\n",
    "def map_city(count,name,color):\n",
    "    tracer = go.Scattergeo(lat=cit_ll[cit_ll[\"Count\"] == count][\"latitude\"],\n",
    "                          lon=cit_ll[cit_ll[\"Count\"] == count][\"longitude\"],\n",
    "                          text=(cit_ll[cit_ll[\"Count\"] == count][\"City\"] +\" , \"+ \n",
    "                                cit_ll[cit_ll[\"Count\"] == count][\"Country\"]\n",
    "                                +\",Year : \"+ cit_ll[cit_ll[\"Count\"] == count][\"Year\"]),\n",
    "                          mode = \"markers\",\n",
    "                          marker = dict(size = 9,\n",
    "                                        opacity = .8,\n",
    "                                        line = dict(width = 1,\n",
    "                                                    color = 'rgba(102, 102, 102)',\n",
    "                                                   ),\n",
    "                                        symbol = \"diamond\",\n",
    "                                        reversescale = True,\n",
    "                                        autocolorscale = False,\n",
    "                                        color = color,\n",
    "                                       ),\n",
    "                           name = name,\n",
    "                         )\n",
    "    return tracer\n",
    "\n",
    "layout = go.Layout(dict(title = \"Olympic Games host cities\",\n",
    "                        geo = dict(scope = \"world\",\n",
    "                                   showland = True,\n",
    "                                   landcolor = \"white\",\n",
    "                                   subunitcolor = \"red\",\n",
    "                                   subunitwidth = 1,\n",
    "                                   showcountries = True,\n",
    "                                   countrycolor = \"black\",\n",
    "                                   countrywidth = .1,\n",
    "                                   showocean = True,\n",
    "                                   projection = dict(type = \"orthographic\",\n",
    "                                                     rotation = dict(lat = 40,lon = 25)\n",
    "                                                    ),\n",
    "                                  ),\n",
    "                        height = 650,\n",
    "                        width =  650,\n",
    "                       )\n",
    "                  )\n",
    "\n",
    "trace1 = map_city(3,\"THRICE\",\"blue\")\n",
    "trace2 = map_city(2,\"TWICE\",\"green\")\n",
    "trace3 = map_city(1,\"ONCE\",\"red\")\n",
    "\n",
    "data = [trace3,trace2,trace1]\n",
    "\n",
    "fig = go.Figure(data=data,layout=layout)\n",
    "py.iplot(fig)"
   ]
  },
  {
   "cell_type": "markdown",
   "metadata": {
    "_uuid": "37cc6729f684a9e17b0f6bfcdc24abb59040a2c7"
   },
   "source": [
    "## Host cities for summer and winter olympics\n",
    "* London became the first city to have hosted three Games with the 2012 Summer Olympics.\n",
    "* Cities hosted the Olympic Games more than once: Athens (1896 and 2004 Summer Olympics), Paris (1900, 1924 ), London (1908, 1948 and 2012 Summer Olympics), St. Moritz (1928 and 1948 Winter Olympics), Lake Placid (1932 and 1980 Winter Olympics), Los Angeles (1932, 1984), Innsbruck (1964 and 1976 Winter Olympics )"
   ]
  },
  {
   "cell_type": "code",
   "execution_count": null,
   "metadata": {
    "_kg_hide-input": true,
    "_uuid": "e012d55f32302dacf20965fb0da93b90930b58f6"
   },
   "outputs": [],
   "source": [
    "plt.figure(figsize=(12,12))\n",
    "plt.subplot(211)\n",
    "sns.countplot(host_s[\"City\"],facecolor = (0,0,0,0),\n",
    "                  linewidth = 3,\n",
    "                  edgecolor = \"b\"*host_s[\"City\"].nunique())\n",
    "plt.xticks(rotation = 60)\n",
    "plt.grid(True)\n",
    "plt.title(\"Host cities for summer olympics\")\n",
    "plt.yticks(np.arange(0,4,1))\n",
    "\n",
    "plt.subplot(212)\n",
    "sns.countplot(host_w[\"City\"],facecolor = (0,0,0,0),\n",
    "              linewidth = 3,\n",
    "              edgecolor = \"k\"*host_w[\"City\"].nunique())\n",
    "plt.xticks(rotation = 80)\n",
    "plt.grid(True)\n",
    "plt.title(\"Host cities for winter olympics\")\n",
    "plt.yticks(np.arange(0,4,1))\n",
    "\n",
    "plt.subplots_adjust(hspace = .4)"
   ]
  },
  {
   "cell_type": "markdown",
   "metadata": {
    "_uuid": "cb057b7939c81be139e13227442f4d8710c35550"
   },
   "source": [
    "## Height and Weight Distribiution of Athletes\n",
    "* Height - In centimeters\n",
    "* Weight - In kilograms"
   ]
  },
  {
   "cell_type": "code",
   "execution_count": null,
   "metadata": {
    "_kg_hide-input": true,
    "_uuid": "e670c1ecc7ba038528e3ebcd8c2f7b20b55a6fa7"
   },
   "outputs": [],
   "source": [
    "cols = [\"Weight\",\"Height\"]\n",
    "length = len(cols)\n",
    "cs = [\"b\",\"r\"]\n",
    "\n",
    "plt.figure(figsize= (13,8))\n",
    "\n",
    "for i,j,k in itertools.zip_longest(cols,range(length),cs) :\n",
    "    sns.distplot(events[events[i].notnull()][i],color = k,label = i)\n",
    "    plt.axvline(events[events[i].notnull()][i].mean(),\n",
    "                color = k,linestyle = \"dashed\",label = i+ \" average\")\n",
    "    plt.legend(loc = \"best\",prop = {\"size\" : 14})\n",
    "    plt.title(\"Height and Weight Distribution of Athletes\")\n",
    "    plt.subplots_adjust(hspace = .2)\n",
    "    plt.xticks(np.arange(0,250,20))"
   ]
  },
  {
   "cell_type": "markdown",
   "metadata": {
    "_uuid": "f9cf853fffbb9462d0492c4fe2119baf914082ca"
   },
   "source": [
    "## Body mass index :\n",
    "The body mass index (BMI) or Quetelet index is a value derived from the mass (weight) and height of an individual.The BMI is an attempt to quantify the amount of tissue mass (muscle, fat, and bone) in an individual . The BMI is defined as the body mass divided by the square of the body height, and is universally expressed in units of kg/m2, resulting from mass in kilograms and height in metres.. A body mass index between 18.5 and 24.9 falls in the healthy range."
   ]
  },
  {
   "cell_type": "code",
   "execution_count": null,
   "metadata": {
    "_kg_hide-input": true,
    "_uuid": "ec0bd876d65aa4ab31a922f1fd232541ddb9223c"
   },
   "outputs": [],
   "source": [
    "#Selecting non null values of height and weight\n",
    "metric_data = events[(events[\"Height\"].notnull()) & (events[\"Weight\"].notnull())]\n",
    "#convert height to meters\n",
    "metric_data[\"Height_in_mt\"] = metric_data[\"Height\"]/100\n",
    "#caluculate BMI\n",
    "metric_data[\"BMI\"] = metric_data[\"Weight\"]/(metric_data[\"Height_in_mt\"]**2)\n",
    "\n",
    "plt.figure(figsize=(13,7))\n",
    "sns.distplot(metric_data[\"BMI\"],color = \"k\")\n",
    "plt.axvline(metric_data[\"BMI\"].mean(),\n",
    "            linestyle = \"dotted\",linewidth = 3,\n",
    "            color= \"k\",label = \"BMI - AVERAGE\")\n",
    "plt.legend(loc = \"best\",prop = {\"size\" : 13})\n",
    "plt.title(\"Distribution of Body Mass Index of Athletes\")\n",
    "plt.show()"
   ]
  },
  {
   "cell_type": "markdown",
   "metadata": {
    "_uuid": "f286e406ef9ea510a806d8e5cd1dcf6e4fda7da1"
   },
   "source": [
    "## Height and weight of atheletes w.r.t BMI"
   ]
  },
  {
   "cell_type": "code",
   "execution_count": null,
   "metadata": {
    "_kg_hide-input": true,
    "_uuid": "b9456a956e31255825ee3bd3fe7e14739929b0e3"
   },
   "outputs": [],
   "source": [
    "plt.figure(figsize=(13,9))\n",
    "sns.set_style(\"darkgrid\")\n",
    "plt.scatter(metric_data[\"Height\"],metric_data[\"Weight\"],cmap=\"jet\",\n",
    "            c=metric_data[\"BMI\"],linewidth=.4,edgecolor = \"k\")\n",
    "lab = plt.colorbar()\n",
    "lab.set_label(\"Body Mass Index\",fontsize = 13)\n",
    "plt.xlabel(\"Height_in_centimeters\")\n",
    "plt.ylabel(\"Weight in kilograms\")\n",
    "plt.title(\"Height and weight of atheletes w.r.t BMI\",color = \"navy\")\n",
    "plt.show()"
   ]
  },
  {
   "cell_type": "markdown",
   "metadata": {
    "_uuid": "faa42c256e80a9f0cd68359d4596134d2aa2b7da"
   },
   "source": [
    "## 3d scatter plot between height,weight and age "
   ]
  },
  {
   "cell_type": "code",
   "execution_count": null,
   "metadata": {
    "_kg_hide-input": true,
    "_uuid": "453d3d37a1ac3119fa6326a14f60fd27e5511a42"
   },
   "outputs": [],
   "source": [
    "#metric_data.isnull().sum()\n",
    "from mpl_toolkits.mplot3d import Axes3D\n",
    "sns.set_style(\"whitegrid\")\n",
    "\n",
    "fig = plt.figure(figsize=(13,10))\n",
    "ax  = fig.gca(projection = \"3d\")\n",
    "plot = ax.scatter(metric_data[metric_data[\"Age\"].notnull()][\"Height_in_mt\"],\n",
    "                  metric_data[metric_data[\"Age\"].notnull()][\"Weight\"],\n",
    "                  metric_data[metric_data[\"Age\"].notnull()][\"Age\"],\n",
    "                  c = metric_data[metric_data[\"Age\"].notnull()][\"BMI\"],\n",
    "                  cmap = \"jet\",\n",
    "                  linewidth = .1,\n",
    "                  edgecolor = \"k\",\n",
    "                  s = 60,\n",
    "                 )\n",
    "lab = fig.colorbar(plot,shrink = .3,aspect = 5)\n",
    "lab.set_label(\"BMI\")\n",
    "ax.set_xlabel(\"Height\")\n",
    "ax.set_ylabel(\"Weight\")\n",
    "ax.set_zlabel(\"Age\")\n",
    "plt.title(\"3d scatter plot for height,weight and age \" ,color = \"navy\")\n",
    "plt.show()"
   ]
  },
  {
   "cell_type": "markdown",
   "metadata": {
    "_uuid": "fb8bf2913c299c903e987e1c22f4432ad9e44f6e"
   },
   "source": [
    "## Hexbin plot for (Height,Weight,Age) & BMI"
   ]
  },
  {
   "cell_type": "code",
   "execution_count": null,
   "metadata": {
    "_kg_hide-input": true,
    "_uuid": "43ba131b4a83acc4e3f64d74fd39da9d3f490523"
   },
   "outputs": [],
   "source": [
    "plt.figure(figsize=(9,20))\n",
    "cols = [\"Age\",\"Weight\",\"Height_in_mt\"]\n",
    "length = len(cols)\n",
    "\n",
    "for i,j in itertools.zip_longest(cols,range(length)):\n",
    "    plt.subplot(3,1,j+1)\n",
    "    plt.hexbin(metric_data[i],metric_data[\"BMI\"],\n",
    "               gridsize=(40,40),cmap = \"hot\") \n",
    "    plt.xlabel(i)\n",
    "    plt.ylabel(\"BMI\")\n",
    "    plt.colorbar(label = \"data points\")\n",
    "    plt.title(\"BMI Vs \" +  i)"
   ]
  },
  {
   "cell_type": "markdown",
   "metadata": {
    "_uuid": "7ddea4f1aa77ad285354ea1f6d7dbc707cde351c"
   },
   "source": [
    "## Average of Attributes by Sport Category"
   ]
  },
  {
   "cell_type": "code",
   "execution_count": null,
   "metadata": {
    "_kg_hide-input": true,
    "_uuid": "478e039b72d682f862eb506b95d04bd99505428b"
   },
   "outputs": [],
   "source": [
    "cols = ['Age', 'Weight' ,'Height',\"BMI\"]\n",
    "length = len(cols)\n",
    "palette = [\"b\",\"r\",\"grey\",\"lime\"]\n",
    "\n",
    "sns.set_style(\"darkgrid\")\n",
    "plt.figure(figsize=(11,25))\n",
    "for i,j,k in itertools.zip_longest(cols,range(length),palette) :\n",
    "    plt.subplot(4,1,j+1)\n",
    "    avg = metric_data.groupby(\"Sport_category\")[i].mean().reset_index()\n",
    "    avg = avg.sort_values(by = i ,ascending =False)\n",
    "    sns.barplot(\"Sport_category\",i,data=avg[avg[i].notnull()],\n",
    "                linewidth = .5,edgecolor = \"k\"*len(avg),\n",
    "                color = k)\n",
    "    plt.xticks(rotation = 90)\n",
    "    plt.subplots_adjust(hspace = .6)\n",
    "    plt.grid(True)\n",
    "    plt.title(\"Average \"+ i + \"  by Sports category\")\n",
    "    plt.xlabel(\"\")"
   ]
  },
  {
   "cell_type": "markdown",
   "metadata": {
    "_uuid": "4e0b27bb2fe830648a99bc0111f23fe9f23c41c2"
   },
   "source": [
    "# Events for olympics \n",
    "* Events include categories in each sport for male and female genders"
   ]
  },
  {
   "cell_type": "code",
   "execution_count": null,
   "metadata": {
    "_kg_hide-input": true,
    "_uuid": "6b3972d6a1a5c9114c495c4a548d8e747a5d58b2"
   },
   "outputs": [],
   "source": [
    "ev_s = summer.groupby(\"Year\")[\"Event\"].nunique().reset_index()\n",
    "ev_w = winter.groupby(\"Year\")[\"Event\"].nunique().reset_index()\n",
    "\n",
    "plt.figure(figsize=(13,14))\n",
    "plt.subplot(211)\n",
    "ax = sns.pointplot(ev_s[\"Year\"],ev_s[\"Event\"],color=\"w\",markers=\"H\")\n",
    "plt.xticks(rotation = 60)\n",
    "ax.set_facecolor(\"k\")\n",
    "plt.grid(True,alpha=.1)\n",
    "plt.ylabel(\"count\")\n",
    "plt.title(\"Unique sport Events over years for Summer Olympics\",color=\"b\")\n",
    "\n",
    "plt.subplot(212)\n",
    "ax = sns.pointplot(ev_w[\"Year\"],ev_w[\"Event\"],color=\"r\",markers=\"H\")\n",
    "plt.xticks(rotation = 60)\n",
    "ax.set_facecolor(\"k\")\n",
    "plt.grid(True,alpha=.1)\n",
    "plt.ylabel(\"count\")\n",
    "plt.title(\"Unique sport Events over years for Winter Olympics\",color=\"b\")\n",
    "plt.subplots_adjust(hspace = .3)\n",
    "plt.show()"
   ]
  },
  {
   "cell_type": "markdown",
   "metadata": {
    "_uuid": "2ba4c103e60cae9265517a36f2a8e65a8fae7619"
   },
   "source": [
    "## Events ratio by gender"
   ]
  },
  {
   "cell_type": "code",
   "execution_count": null,
   "metadata": {
    "_kg_hide-input": true,
    "_uuid": "1178aa6babf5791f721b42ec94e1c3039f5a1953"
   },
   "outputs": [],
   "source": [
    "plt.figure(figsize=(13,6))\n",
    "plt.subplot(121)\n",
    "summer.groupby(\"Sex\")[\"Event\"].nunique().plot.pie(autopct = \"%1.0f%%\",\n",
    "                                                  wedgeprops = {\"linewidth\":2,\"edgecolor\":\"w\"},\n",
    "                                                  explode = [0,.01],shadow = True , \n",
    "                                                  colors = [\"royalblue\",\"lawngreen\"])\n",
    "plt.title(\"Events ratio by gender in summer olympics\",color = \"r\")\n",
    "plt.ylabel(\"\")\n",
    "\n",
    "plt.subplot(122)\n",
    "winter.groupby(\"Sex\")[\"Event\"].nunique().plot.pie(autopct = \"%1.0f%%\",\n",
    "                                                  wedgeprops = {\"linewidth\":2,\"edgecolor\":\"w\"},\n",
    "                                                  explode = [0,.01],shadow = True , \n",
    "                                                  colors = [\"royalblue\",\"lawngreen\"])\n",
    "plt.title(\"Events ratio by gender in winter olympics\",color = \"r\")\n",
    "plt.ylabel(\"\")\n",
    "\n",
    "plt.show()"
   ]
  },
  {
   "cell_type": "markdown",
   "metadata": {
    "_uuid": "c223510d67faa10680458b7acda2ebbfdeb91a2c"
   },
   "source": [
    "## Events by gender over years\n",
    "* The events of women in the Olympics has been increasing since their first participation in 1900. "
   ]
  },
  {
   "cell_type": "code",
   "execution_count": null,
   "metadata": {
    "_kg_hide-input": true,
    "_uuid": "9cad532752df5f52c9d365e602b05556eb73b14c"
   },
   "outputs": [],
   "source": [
    "sns.set_style(\"darkgrid\")\n",
    "s_ys = summer.groupby([\"Year\",\"Sex\"])[\"Event\"].nunique().reset_index()\n",
    "\n",
    "plt.figure(figsize=(13,13))\n",
    "plt.subplot(211)\n",
    "sns.barplot(\"Year\",\"Event\",\n",
    "            data=s_ys,hue=\"Sex\",\n",
    "            linewidth = 1,palette = [\"b\",\"r\"],\n",
    "            edgecolor = \"k\"*s_ys[\"Year\"].nunique()\n",
    "           )\n",
    "plt.xticks(rotation = 60)\n",
    "plt.grid(True)\n",
    "plt.legend(loc = \"upper left\",prop = {\"size\" : 15})\n",
    "plt.title(\"Events by gender for summer olympics\")\n",
    "\n",
    "w_ys = winter.groupby([\"Year\",\"Sex\"])[\"Event\"].nunique().reset_index()\n",
    "\n",
    "plt.figure(figsize=(13,13))\n",
    "plt.subplot(212)\n",
    "sns.barplot(\"Year\",\"Event\",\n",
    "            data=w_ys,hue=\"Sex\",\n",
    "            linewidth = 1,palette = [\"b\",\"r\"],\n",
    "            edgecolor = \"k\"*w_ys[\"Year\"].nunique()\n",
    "           )\n",
    "plt.xticks(rotation = 60)\n",
    "plt.grid(True)\n",
    "plt.legend(loc = \"upper left\",prop = {\"size\" : 15})\n",
    "plt.title(\"Events by gender for winter olympics\")\n",
    "\n",
    "plt.show()"
   ]
  },
  {
   "cell_type": "markdown",
   "metadata": {
    "_uuid": "b4adcd8f2a796498475e1dd8076ab1d054961735"
   },
   "source": [
    "# Olympic sports\n",
    "* At the first Olympic Games, nine sports were contested. Since then, the number of sports contested at the Summer Olympic Games has gradually risen to twenty-eight on the program for 2000–2008. At the 2012 Summer Olympics, however, the number of sports fell back to twenty-six following an IOC decision in 2005 to remove baseball and softball from the Olympic program. These sports retain their status as Olympic sports with the possibility of a return to the Olympic program in future games. At the 121st IOC Session in Copenhagen on 9 October 2009, the IOC voted to reinstate both golf and rugby to the Olympic program, meaning that the number of sports to be contested in 2016 was once again 28\n",
    "* Before 1924, when the first Winter Olympic Games were celebrated, sports held on ice, like figure skating and ice hockey, were held at the Summer Olympics. These two sports made their debuts at the 1908 and the 1920 Summer Olympics, respectively, but were permanently integrated in the Winter Olympics program as of the first edition.  The number of sports contested at the Winter Olympics has since been decreased to seven, comprising a total of fifteen disciplines"
   ]
  },
  {
   "cell_type": "code",
   "execution_count": null,
   "metadata": {
    "_kg_hide-input": true,
    "_uuid": "1911e09e7c3b5a958487681b76a3bd2eb38286e5"
   },
   "outputs": [],
   "source": [
    "sp_s = summer.groupby(\"Year\")[\"Sport_category\"].nunique().reset_index()\n",
    "sp_w = winter.groupby(\"Year\")[\"Sport_category\"].nunique().reset_index()\n",
    "\n",
    "plt.figure(figsize=(13,15))\n",
    "\n",
    "plt.subplot(211)\n",
    "ax = sns.pointplot(sp_s[\"Year\"],sp_s[\"Sport_category\"],color = \"w\")\n",
    "ax.set_facecolor(\"b\")\n",
    "plt.xticks(rotation = 60)\n",
    "plt.grid(True,alpha= .2)\n",
    "plt.title(\"Sports for summer olympics\")\n",
    "plt.yticks(np.arange(8,30,2))\n",
    "plt.ylabel(\"count\")\n",
    "\n",
    "plt.subplot(212)\n",
    "ax = sns.pointplot(sp_w[\"Year\"],sp_w[\"Sport_category\"],color = \"w\")\n",
    "ax.set_facecolor(\"b\")\n",
    "plt.xticks(rotation = 60)\n",
    "plt.grid(True,alpha= .2)\n",
    "plt.title(\"Sports for winter olympics\")\n",
    "plt.yticks(np.arange(3,9,1))\n",
    "plt.ylabel(\"count\")\n",
    "\n",
    "plt.show()"
   ]
  },
  {
   "cell_type": "markdown",
   "metadata": {
    "_uuid": "22fb89fa1234e727c095d1416541eeba0fec32d4"
   },
   "source": [
    "## Summer olympics events for sports\n",
    "The figures in each cell indicate the number of events for each sport contested at the respective Games; "
   ]
  },
  {
   "cell_type": "code",
   "execution_count": null,
   "metadata": {
    "_kg_hide-input": true,
    "_uuid": "055fa2a95a40139835d6b3ebad1a0e03c59751cb"
   },
   "outputs": [],
   "source": [
    "#The figures in each cell indicate the number of events for each sport contested at the respective Games; \n",
    "sum_sp = pd.pivot_table(index=\"Sport\",columns=\"Year\",data=summer,\n",
    "                        values=\"Event\",aggfunc=\"nunique\")\n",
    "sum_sp = sum_sp.fillna(0)\n",
    "plt.figure(figsize=(12,15))\n",
    "sns.heatmap(sum_sp,linewidth=1,annot=True,cmap=\"rainbow\",linecolor=\"k\")\n",
    "plt.title(\"Summer olympics events for sports\",color=\"b\")\n",
    "plt.show()"
   ]
  },
  {
   "cell_type": "markdown",
   "metadata": {
    "_uuid": "709818fffa218a53dba53ad3d2d6814343abe917"
   },
   "source": [
    "## Winter olympics events for sports\n",
    "The figures in each cell indicate the number of events for each sport contested at the respective Games; "
   ]
  },
  {
   "cell_type": "code",
   "execution_count": null,
   "metadata": {
    "_kg_hide-input": true,
    "_uuid": "3af6b595a35fb82cf5e0ddc3ca23dcaa70c7c2c7"
   },
   "outputs": [],
   "source": [
    "win_sp = pd.pivot_table(index=\"Sport\",columns=\"Year\",data=winter,\n",
    "                        values=\"Event\",aggfunc=\"nunique\")\n",
    "win_sp = win_sp.fillna(0)\n",
    "plt.figure(figsize=(12,10))\n",
    "sns.heatmap(win_sp,linewidth=1,annot=True,cmap=\"rainbow\",linecolor=\"k\")\n",
    "plt.title(\"Winter olympics events for sports\",color=\"b\")\n",
    "plt.xticks(rotation = 90)\n",
    "plt.show()"
   ]
  },
  {
   "cell_type": "markdown",
   "metadata": {
    "_uuid": "d1c0ccc1244b1c9c4cb80c4d4716c9d627e723b7"
   },
   "source": [
    "## Discontinued sports in olympics\n",
    "* The following sports (or disciplines of a sport) make up the discontinued  Olympic Games official program.The discontinued sports were previously part of the Olympic Games program as official sports, but are no longer on the current program."
   ]
  },
  {
   "cell_type": "code",
   "execution_count": null,
   "metadata": {
    "_kg_hide-input": true,
    "_uuid": "2f95219ef727f138835e02f6a2be1ca4f3e51946"
   },
   "outputs": [],
   "source": [
    "disc_s = pd.pivot_table(data=summer,index=\"Sport\",\n",
    "                        columns=\"Year\",values=\"Event\",aggfunc=\"nunique\")\n",
    "print(\"Discontinued olympic summer sports  : \\n\",\n",
    "      disc_s[disc_s[2016].isnull()].index.values)\n",
    "disc_w = pd.pivot_table(index=\"Sport\",columns=\"Year\",\n",
    "                        data=winter,values=\"Event\",aggfunc=\"nunique\")\n",
    "print(\"\\nDiscontinued olympic winter sports  : \\n\",\n",
    "      disc_w[disc_w[2014].isnull()].index.values)"
   ]
  },
  {
   "cell_type": "markdown",
   "metadata": {
    "_uuid": "db7eeb3eeb3036062f3646f96bef513ab38a7913"
   },
   "source": [
    "## Classification of Olympic sports for revenue share\n",
    "* Summer Olympic sports are divided into categories based on popularity, gauged by: television viewing figures (40%), Internet popularity (20%), public surveys (15%), ticket requests (10%), press coverage (10%), and number of national federations (5%). The category determines the share the sport's International Federation receives of Olympic revenue.\n",
    "\n",
    "* The current categories, as of 2013, are as follows, with the pre-2013 categorizations also being available.Category A represents the most popular sports; category E lists either the sports that are the least popular or that are new to the Olympics (golf and rugby)."
   ]
  },
  {
   "cell_type": "code",
   "execution_count": null,
   "metadata": {
    "_kg_hide-input": true,
    "_uuid": "33a0834b6dea140ce741b2e08d22883427f1229a"
   },
   "outputs": [],
   "source": [
    "\n",
    "categories = pd.DataFrame({\"CATEGORY\" : [\"A\",\"B\",\"C\",\"D\",\"E\"],\n",
    "                             \"Individual Sports\" :[\"Aquatics , Athletics ,Gymnastic\",\n",
    "                                                \"Cycling , Tennis \",\n",
    "                                                \"Archery , Badminton , Boxing ,Judo , Rowing , Shooting ,Table Tennis ,Weightlifting\",\n",
    "                                                \"Canoeing , Equestrianism , Sailing , Fencing , Taekwondo , Triathlon , Wrestling\" ,\n",
    "                                                \"Modern Pentathlon , Golf\"],\n",
    "                             \"Team Sport\" : [\" - \",\n",
    "                                            \"Basketball , Football , Volley\",\n",
    "                                            \" - \",\n",
    "                                            \"Handball , Hockey \",\n",
    "                                            \"Rugby Sevens \"]\n",
    "                            })\n",
    "\n",
    "categories_ind  = categories[[\"CATEGORY\",\"Individual Sports\"]]\n",
    "categories_team = categories[[\"CATEGORY\",\"Team Sport\"]]\n",
    "\n",
    "tab  = ff.create_table(categories_ind,height_constant=30)\n",
    "tab1 = ff.create_table(categories_team,height_constant=30)\n",
    "py.iplot(tab)\n",
    "py.iplot(tab1)"
   ]
  },
  {
   "cell_type": "code",
   "execution_count": null,
   "metadata": {
    "_kg_hide-input": true,
    "_uuid": "6b1e7c6eefbd2421e24194f5a9a74d8e7874a9ff"
   },
   "outputs": [],
   "source": [
    "## Data Manipulation\n",
    "#Creating new features\n",
    "\n",
    "cat_A = ['Aquatics' , 'Athletics' ,'Gymnastic']\n",
    "cat_B = ['Cycling' , 'Tennis','Basketball' , 'Football' , 'Volley']\n",
    "cat_C = ['Archery' , 'Badminton' , 'Boxing' ,'Judo' ,\n",
    "         'Rowing' , 'Shooting' ,'Table Tennis' ,'Weightlifting']\n",
    "cat_D = ['Canoeing' , 'Equestrianism' , 'Sailing' ,'Fencing' ,\n",
    "         'Taekwondo' , 'Triathlon' , 'Wrestling','Handball' , 'Hockey' ]\n",
    "cat_E = ['Modern Pentathlon' , 'Golf',\n",
    "        'Rugby Sevens' ]\n",
    "\n",
    "#Gouping sports to categories\n",
    "\n",
    "def rev_category(summer) :\n",
    "    \n",
    "    cat_A = ['Aquatics' , 'Athletics' ,'Gymnastic']\n",
    "    for i in cat_A :\n",
    "        if summer[\"Sport_category\"] == i :\n",
    "            return \"Category A\"\n",
    "    \n",
    "    cat_B = ['Cycling' , 'Tennis','Basketball' , 'Football' , 'Volley']\n",
    "    for i in cat_B :\n",
    "        if summer[\"Sport_category\"] == i :\n",
    "            return \"Category B\"\n",
    "    \n",
    "    cat_C = ['Archery' , 'Badminton' , 'Boxing' ,'Judo' ,\n",
    "             'Rowing' , 'Shooting' ,'Table Tennis' ,'Weightlifting']\n",
    "    for i in cat_C :\n",
    "        if summer[\"Sport_category\"] == i :\n",
    "            return \"Category C\"\n",
    "              \n",
    "    cat_D = ['Canoeing' , 'Equestrianism' , 'Sailing' ,'Fencing' ,\n",
    "             'Taekwondo' , 'Triathlon' , 'Wrestling','Handball' , 'Hockey' ]\n",
    "    for i in cat_D :\n",
    "        if summer[\"Sport_category\"] == i :\n",
    "            return \"Category D\"\n",
    "    \n",
    "    cat_E = ['Modern Pentathlon' , 'Golf','Rugby Sevens' ]\n",
    "    for i in cat_E :\n",
    "        if summer[\"Sport_category\"] == i :\n",
    "            return \"Category E\"\n",
    "    \n",
    "    else :\n",
    "        return \"Discontinued\"\n",
    "    \n",
    "#Creating new column of category for respective sport\n",
    "summer[\"revenue_category\"]  = summer.apply(lambda summer:rev_category(summer),axis = 1)\n",
    "\n",
    "#Individual sports\n",
    "individual_sports = ['Aquatics' , 'Athletics' ,'Gymnastic','Cycling' , 'Tennis',\n",
    "                     'Archery' , 'Badminton' , 'Boxing' ,'Judo' ,'Rowing' , 'Shooting' ,\n",
    "                     'Table Tennis' ,'Weightlifting','Canoeing' , 'Equestrianism' , \n",
    "                     'Sailing' ,'Fencing' ,'Taekwondo' , 'Triathlon' , 'Wrestling',\n",
    "                     'Modern Pentathlon' , 'Golf'  ,'Aeronautics','Art Competitions',\n",
    "                     'Jeu De Paume','Motorboating','Racquets','Skating','Skiing'\n",
    "                    ]\n",
    "#team_sports\n",
    "team_sports       = ['Basketball' , 'Football' , 'Volley',\n",
    "                     'Handball' , 'Hockey','Rugby Sevens','Baseball','Basque Pelota',\n",
    "                     'Cricket','Ice Hockey','Rugby','Croquet','Lacrosse', 'Polo',\n",
    "                     'Roque','Tug-Of-War','Softball'\n",
    "                    ]\n",
    "#discontinued sports\n",
    "discontinued     = ['Aeronautics', 'Art Competitions', 'Baseball', 'Basque Pelota',\n",
    "                    'Cricket', 'Croquet', 'Ice Hockey', 'Jeu De Paume', 'Lacrosse',\n",
    "                    'Motorboating', 'Polo', 'Racquets', 'Roque', 'Rugby', 'Skating',\n",
    "                    'Skiing', 'Softball', 'Tug-Of-War']\n",
    "\n",
    "\n",
    "def sport_type(summer) :\n",
    "    for i in individual_sports :\n",
    "        if summer[\"Sport_category\"] == i :\n",
    "            return \"Individual Sport\"\n",
    "    for i in team_sports :\n",
    "        if summer[\"Sport_category\"] == i :\n",
    "            return \"Team Sport\"\n",
    "\n",
    "def discontinued_sport(summer) :\n",
    "    for i in discontinued :\n",
    "        if summer[\"Sport_category\"] == i :\n",
    "            return 1 \n",
    "    else :\n",
    "        return 0\n",
    "\n",
    "#Creating new column for sport type (indiviaual or team)\n",
    "summer[\"Sport_type\"] = summer.apply(lambda summer:sport_type(summer) , axis = 1)\n",
    "\n",
    "#Creating new column for discontinued sport  (1,0)\n",
    "summer[\"discontinued\"] = summer.apply(lambda summer:discontinued_sport(summer) , axis = 1)\n"
   ]
  },
  {
   "cell_type": "markdown",
   "metadata": {
    "_uuid": "15c188cd0cd7467990a68758b7259f90eb7d878f"
   },
   "source": [
    "## Percentage of Sports in each revenue category"
   ]
  },
  {
   "cell_type": "code",
   "execution_count": null,
   "metadata": {
    "_kg_hide-input": true,
    "_uuid": "36a61397f8dc6c18125e13bd91363b2c8ed29425"
   },
   "outputs": [],
   "source": [
    "cat_sp_count = summer.groupby(\"revenue_category\")[\"Sport_category\"].nunique().reset_index()\n",
    "cat_sp_sport = summer.groupby(\"revenue_category\")[\"Sport_category\"].unique().reset_index()\n",
    "cat_sp_sport = cat_sp_sport.rename(columns = {\"Sport_category\" : \"Sport\"} )\n",
    "cat_sp = cat_sp_count.merge(cat_sp_sport,left_on=\"revenue_category\",\n",
    "                            right_on=\"revenue_category\",how =\"left\")\n",
    "\n",
    "cat_ev_count = summer.groupby(\"revenue_category\")[\"Event\"].nunique().reset_index()\n",
    "cat_ev_sport = summer.groupby(\"revenue_category\")[\"Event\"].unique().reset_index()\n",
    "cat_ev_sport = cat_ev_sport.rename(columns = {\"Event\" : \"Sport\"} )\n",
    "cat_ev = cat_ev_count.merge(cat_sp_sport,left_on=\"revenue_category\",\n",
    "                            right_on=\"revenue_category\",how =\"left\")\n",
    "cat_ev\n",
    "\n",
    "\n",
    "labels = cat_sp[\"revenue_category\"].tolist()[:5]\n",
    "values = cat_sp[\"Sport_category\"].tolist()[:5]\n",
    "text   = cat_sp[\"Sport\"].tolist()\n",
    "\n",
    "labels1 = cat_ev[\"revenue_category\"].tolist()[:5]\n",
    "values1 = cat_ev[\"Event\"].tolist()[:5]\n",
    "text1   = cat_ev[\"Sport\"].tolist()\n",
    "\n",
    "trace = go.Pie(labels=labels,values=values,\n",
    "               hoverinfo=\"label+percent\",\n",
    "               domain = dict(x = [0,.48]),\n",
    "               hole = .45,\n",
    "               marker=dict(line=dict(color='#000000', width=1)\n",
    "                          )\n",
    "              )\n",
    "trace1 = go.Pie(labels=labels1,values=values1,\n",
    "               hoverinfo=\"label+percent\",\n",
    "                hole = .45,\n",
    "                domain = dict(x = [.54,1]),\n",
    "               marker=dict(line=dict(color='#000000', width=1)\n",
    "                          )\n",
    "              )\n",
    "\n",
    "data = [trace,trace1]\n",
    "\n",
    "layout = go.Layout(dict(title = \"Percentage of Sports and events in each revenue category\",\n",
    "                        annotations = [\n",
    "                                 dict(text = \"Sports\",\n",
    "                                      showarrow = False, \n",
    "                                      font = dict(size = 15),\n",
    "                                      x = .2,\n",
    "                                      y = .5,\n",
    "                                     ),\n",
    "                                 dict(text = \"Events\",\n",
    "                                      showarrow = False,\n",
    "                                      font = dict(size = 15),\n",
    "                                      x = .81,\n",
    "                                      y = .5,\n",
    "                                     )\n",
    "                             ]\n",
    "                       )\n",
    "                  )\n",
    "\n",
    "fig = go.Figure(data=data,layout=layout)\n",
    "py.iplot(fig)\n"
   ]
  },
  {
   "cell_type": "markdown",
   "metadata": {
    "_uuid": "065a900286485874b49817a50e7ea831dea072bd"
   },
   "source": [
    "## Individual and team (events and sports) in each revenue category"
   ]
  },
  {
   "cell_type": "code",
   "execution_count": null,
   "metadata": {
    "_kg_hide-input": true,
    "_uuid": "ca702cd8191438e32d938e9f9da42f9428a645e7"
   },
   "outputs": [],
   "source": [
    "rev_sp = summer.groupby([\"revenue_category\",\"Sport_type\"])[[\"Sport\"]].nunique().reset_index()\n",
    "rev_ev = summer.groupby([\"revenue_category\",\"Sport_type\"])[[\"Event\"]].nunique().reset_index()\n",
    "\n",
    "plt.figure(figsize=(12,14))\n",
    "plt.subplot(211)\n",
    "sns.barplot(\"revenue_category\",\"Sport\",\n",
    "            data=rev_sp,hue=\"Sport_type\",\n",
    "            linewidth = 1,edgecolor = \"k\"*len(rev_sp),\n",
    "            palette = [\"r\",\"grey\"],\n",
    "           )\n",
    "plt.grid(True)\n",
    "plt.legend(loc = \"upper left\",prop= {\"size\" : 14})\n",
    "plt.title(\"Individual and team sport in each revenue category\",color=\"b\")\n",
    "plt.ylabel(\"count\")\n",
    "\n",
    "plt.subplot(212)\n",
    "sns.barplot(\"revenue_category\",\"Event\",\n",
    "            data=rev_ev,hue=\"Sport_type\",\n",
    "            linewidth = 1,edgecolor = \"k\"*len(rev_ev),\n",
    "            palette = [\"r\",\"grey\"],\n",
    "           )\n",
    "plt.grid(True)\n",
    "plt.legend(loc = \"upper right\",prop= {\"size\" : 14})\n",
    "plt.title(\"Individual and team events in each revenue category\",color=\"b\")\n",
    "plt.ylabel(\"count\")\n",
    "\n",
    "plt.subplots_adjust(hspace = .3)\n",
    "plt.show()"
   ]
  },
  {
   "cell_type": "markdown",
   "metadata": {
    "_uuid": "60fcda38d1d0f7fd4eafde83f0452c6bbaeba200"
   },
   "source": [
    "## Medals won in Revenue categories"
   ]
  },
  {
   "cell_type": "code",
   "execution_count": null,
   "metadata": {
    "_kg_hide-input": true,
    "_uuid": "db4c9367d86f5f96758d7652f73166885950029e"
   },
   "outputs": [],
   "source": [
    "rev_med = pd.crosstab(summer[\"revenue_category\"],summer[\"Medal\"]).reset_index()[:5]\n",
    "\n",
    "def bar(col,color) : \n",
    "    t = go.Bar(x = rev_med[\"revenue_category\"],y=rev_med[col],\n",
    "                marker = dict(color = color,\n",
    "                              line  = dict(width = 1)\n",
    "                             ),\n",
    "                name = col\n",
    "               )\n",
    "    return t\n",
    "\n",
    "t1 = bar(\"Gold\",\"Gold\")\n",
    "t2 = bar(\"Silver\",\"Silver\")\n",
    "t3 = bar(\"Bronze\",\"#FF9900\")\n",
    "\n",
    "dat = [t1,t2,t3]\n",
    "\n",
    "layout = go.Layout(dict(title =\"Medals won in Revenue categories\",\n",
    "                        barmode = \"stack\",\n",
    "                        xaxis = dict(title = \"Revenu category\",\n",
    "                                     showgrid = True,\n",
    "                                    ),\n",
    "                        yaxis = dict(title = \"Count\",\n",
    "                                     showgrid = True,\n",
    "                                    )\n",
    "                       )\n",
    "                  )\n",
    "\n",
    "fig  = go.Figure(data=dat,layout=layout)\n",
    "py.iplot(fig)"
   ]
  },
  {
   "cell_type": "markdown",
   "metadata": {
    "_uuid": "db791659fe5ec467c61583c04074cf76dde32033"
   },
   "source": [
    "## Olympic medals by sport.(Summer and winter olympics)"
   ]
  },
  {
   "cell_type": "code",
   "execution_count": null,
   "metadata": {
    "_kg_hide-input": true,
    "_uuid": "38a9dc961c00fc662ce9f3e0d3c0a3b339b559b4"
   },
   "outputs": [],
   "source": [
    "spt_med = events.groupby(\"Sport\")[\"Gold\", 'Silver', 'Bronze',\"Total\"].sum().reset_index()\n",
    "spt_med = spt_med.sort_values(by = [\"Total\",\"Gold\", 'Silver', 'Bronze'],ascending =False)\n",
    "spt_med\n",
    "\n",
    "t = go.Table(header=dict(values = ['Sport','Gold', 'Silver', 'Bronze','Total'],\n",
    "                         line = dict(color = 'black'),\n",
    "                         align = ['left','center'],\n",
    "                         fill  = dict(color = [ \"#66CCFF\",\"Gold\",\"Silver\",\n",
    "                                               \"#CC6633\",\"royalblue\"]),\n",
    "                         font = dict(color = 'black', size = 14)\n",
    "                        ),\n",
    "             cells  = dict(values = [spt_med.Sport,spt_med.Gold,spt_med.Silver,\n",
    "                                     spt_med.Bronze,spt_med.Total],\n",
    "                           line = dict(color = '#506784'),\n",
    "                           align = ['left','center'],\n",
    "                           fill  = dict(color = \"#F5F8FF\"),\n",
    "                          )\n",
    "            )\n",
    "data = [t]\n",
    "\n",
    "layout = go.Layout(dict(title = \"Olympic medals by sport.(Summer and winter olympics)\"))\n",
    "\n",
    "fig = go.Figure(data=data,layout=layout)\n",
    "py.iplot(fig)\n",
    "\n",
    "t1 = go.Bar(x = spt_med[\"Sport\"],\n",
    "            y = spt_med[\"Total\"],\n",
    "            marker = dict(color = \"royalblue\",\n",
    "                          line  = dict(width = 1)\n",
    "                         ),\n",
    "            name = \"Total Medals\"\n",
    "           )\n",
    "\n",
    "dat = [t1]\n",
    "\n",
    "lay = go.Layout(dict(title = \"Olympic medals by sport.\" ,\n",
    "                     margin = dict(b = 150),\n",
    "                    xaxis  = dict(showgrid = True,\n",
    "                                 ),\n",
    "                    yaxis  = dict(showgrid = True,\n",
    "                                  title = \"Medal count\",\n",
    "                                 ),\n",
    "                    plot_bgcolor = \"white\",\n",
    "                     )\n",
    "                )\n",
    "    \n",
    "figure = go.Figure(data=dat,layout=lay)\n",
    "py.iplot(figure)\n"
   ]
  },
  {
   "cell_type": "markdown",
   "metadata": {
    "_uuid": "b95e4642dfbbe6b3d87344a166b3dfcafbf2fe58"
   },
   "source": [
    "## Highest Multiple Olympic medalists ( Summer and Winter olympics)\n",
    "* list of multiple Olympic medalists, i.e. those athletes who have won multiple Olympic medals at either the Summer Olympic Games or the Winter Olympic Games.\n",
    "\n",
    "* American swimmer Michael Phelps is the most decorated Olympian, having won a total of 28 medals in both individual and \n",
    "team events (23 gold, 3 silver, and 2 bronze). \n",
    "\n",
    "* Top 100 athletes with highest total medals."
   ]
  },
  {
   "cell_type": "code",
   "execution_count": null,
   "metadata": {
    "_kg_hide-input": true,
    "_uuid": "c330f9eb6c70a79339fbe84938c62f916b29585e"
   },
   "outputs": [],
   "source": [
    "med = pd.crosstab(events[\"Name\"],events[\"Medal\"]).reset_index()\n",
    "med[\"Total\"] = med['Gold'] + med['Silver'] + med['Bronze']\n",
    "med_tp = med.sort_values(by = [\"Total\",\"Gold\", 'Silver', 'Bronze'],ascending =False)[:100]\n",
    "\n",
    "#Merge country\n",
    "cou_lst = med_tp[\"Name\"].tolist()\n",
    "cou_lst = events[events[\"Name\"].isin(cou_lst)][[\"Name\",\"region\"]]\n",
    "cou_lst = cou_lst.drop_duplicates(subset=[\"Name\",\"region\"])\n",
    "med_tp  = med_tp.merge(cou_lst,left_on=\"Name\",\n",
    "                       right_on=\"Name\",how = \"left\").drop_duplicates(\"Name\")\n",
    "med_tp  = med_tp.rename(columns = {\"region\" : \"Country\"})\n",
    "\n",
    "t = go.Table(header=dict(values = ['Name','Gold', 'Silver', 'Bronze','Total',\"Country\"],\n",
    "                         line = dict(color = 'black'),\n",
    "                         align = ['left','center'],\n",
    "                         fill  = dict(color = [ \"#66CCFF\",\"Gold\",\"Silver\",\n",
    "                                               \"#CC6633\",\"royalblue\",\"#CCFF66\"]),\n",
    "                         font = dict(color = 'black', size = 14)\n",
    "                        ),\n",
    "             cells  = dict(values = [med_tp.Name,med_tp.Gold,med_tp.Silver,\n",
    "                                     med_tp.Bronze,med_tp.Total,med_tp.Country],\n",
    "                           line = dict(color = '#506784'),\n",
    "                           align = ['left','center'],\n",
    "                           fill  = dict(color = \"#F5F8FF\"),\n",
    "                          )\n",
    "            )\n",
    "data = [t]\n",
    "\n",
    "layout = go.Layout(dict(title = \"Top 100 athletes with highest total medals.(Summer and winter olympics)\"))\n",
    "\n",
    "fig = go.Figure(data=data,layout=layout)\n",
    "py.iplot(fig)\n",
    "\n",
    "#top 10\n",
    "\n",
    "def plot(dataframe,title):\n",
    "    \n",
    "    trace = go.Bar(y = dataframe[\"Name\"],\n",
    "                   x = dataframe[\"Gold\"],\n",
    "                   orientation=\"h\",\n",
    "                   marker = dict(color = \"Gold\",\n",
    "                                 line  = dict(width = 1)\n",
    "                                ),\n",
    "                   name = \"GOLD\"\n",
    "                  )\n",
    "    trace1 = go.Bar(y = dataframe[\"Name\"],\n",
    "                   x = dataframe[\"Silver\"],\n",
    "                   orientation=\"h\",\n",
    "                   marker = dict(color = \"Silver\",\n",
    "                                 line  = dict(width = 1)\n",
    "                                ),\n",
    "                    name = \"SILVER\"\n",
    "                  )\n",
    "    trace2 = go.Bar(y = dataframe[\"Name\"],\n",
    "                   x = dataframe[\"Bronze\"],\n",
    "                   orientation=\"h\",\n",
    "                   marker = dict(color = \"#CC6633\",\n",
    "                                 line  = dict(width = 1)\n",
    "                                ),\n",
    "                    name  = \"BRONZE\"\n",
    "                  )\n",
    "    \n",
    "    \n",
    "    dat = [trace,trace1,trace2]\n",
    "    \n",
    "    lay = go.Layout(dict(title= title,\n",
    "                         margin = dict(r = 100,l =300),\n",
    "                         xaxis  = dict(showgrid = True),\n",
    "                         yaxis  = dict(showgrid = True),\n",
    "                         plot_bgcolor = \"white\",\n",
    "                         height = 650\n",
    "                        )\n",
    "                   )\n",
    "    \n",
    "    figure = go.Figure(data=dat,layout=lay)\n",
    "    py.iplot(figure)\n",
    "\n",
    "plot(med_tp[:10].sort_values(by = [\"Total\",\"Gold\", 'Silver', 'Bronze'],ascending = True),\n",
    "     \"Top 10 Athletes with highest medals overall(summer and winter olympics)\")"
   ]
  },
  {
   "cell_type": "markdown",
   "metadata": {
    "_uuid": "dacb672a26009a7d285fc52604b41f69ef24f872"
   },
   "source": [
    "## Highest Multiple Olympic medalists in  Summer olympics"
   ]
  },
  {
   "cell_type": "code",
   "execution_count": null,
   "metadata": {
    "_kg_hide-input": true,
    "_uuid": "9e2e434333e7e8d01acc100bc42d56596eeb81a2"
   },
   "outputs": [],
   "source": [
    "med_s = pd.crosstab(summer[\"Name\"],summer[\"Medal\"]).reset_index()\n",
    "med_s[\"Total\"] = med_s['Gold'] + med_s['Silver'] + med_s['Bronze']\n",
    "med_tp_s = med_s.sort_values(by = [\"Total\",\"Gold\", 'Silver', 'Bronze'],ascending =False)[:100]\n",
    "\n",
    "#Merge country\n",
    "cou_lst_s = med_tp_s[\"Name\"].tolist()\n",
    "cou_lst_s = summer[summer[\"Name\"].isin(cou_lst_s)][[\"Name\",\"region\"]]\n",
    "cou_lst_s = cou_lst_s.drop_duplicates(subset=[\"Name\",\"region\"])\n",
    "med_tp_s  = med_tp_s.merge(cou_lst_s,left_on=\"Name\",right_on=\"Name\",how = \"left\").drop_duplicates(\"Name\")\n",
    "med_tp_s  = med_tp_s.rename(columns = {\"region\" : \"Country\"})\n",
    "med_tp_s\n",
    "\n",
    "t = go.Table(header=dict(values = ['Name','Gold', 'Silver', 'Bronze','Total',\"Country\"],\n",
    "                         line = dict(color = 'black'),\n",
    "                         align = ['left','center'],\n",
    "                         fill  = dict(color = [ \"#66CCFF\",\"Gold\",\"Silver\",\"#CC6633\",\n",
    "                                               \"royalblue\",\"#CCFF66\"]),\n",
    "                         font = dict(color = 'black', size = 14)\n",
    "                        ),\n",
    "             cells  = dict(values = [med_tp_s.Name,med_tp_s.Gold,med_tp_s.Silver,\n",
    "                                     med_tp_s.Bronze,med_tp_s.Total,med_tp_s.Country],\n",
    "                           line = dict(color = '#506784'),\n",
    "                           align = ['left','center'],\n",
    "                           fill  = dict(color = \"#F5F8FF\"),\n",
    "                          )\n",
    "            )\n",
    "data = [t]\n",
    "\n",
    "l = go.Layout(dict(title = \"Top 100 athletes with highest total medals in Summer olympics\"))\n",
    "f = go.Figure(data=data,layout=l)\n",
    "py.iplot(f)\n",
    "\n",
    "\n",
    "#top 10\n",
    "plot(med_tp_s[:10].sort_values(by = [\"Total\",\"Gold\", 'Silver', 'Bronze'],ascending = True),\n",
    "     \"Top 10 Athletes with highest medals  in summer olympics\")"
   ]
  },
  {
   "cell_type": "markdown",
   "metadata": {
    "_uuid": "471c986beeb9f30881f1d25efa3b36658f9d31e5"
   },
   "source": [
    "## Highest Multiple Olympic medalists in  Winter olympics"
   ]
  },
  {
   "cell_type": "code",
   "execution_count": null,
   "metadata": {
    "_kg_hide-input": true,
    "_uuid": "4456663291bfb37b145bb4374331cea09b77d7ce"
   },
   "outputs": [],
   "source": [
    "med_w = pd.crosstab(winter[\"Name\"],winter[\"Medal\"]).reset_index()\n",
    "med_w[\"Total\"] = med_w['Gold'] + med_w['Silver'] + med_w['Bronze']\n",
    "med_tp_w = med_w.sort_values(by = [\"Total\",\"Gold\"],ascending =False)[:100]\n",
    "\n",
    "#Merge country\n",
    "cou_lst_w = med_tp_w[\"Name\"].tolist()\n",
    "cou_lst_w = winter[winter[\"Name\"].isin(cou_lst_w)][[\"Name\",\"region\"]]\n",
    "cou_lst_w = cou_lst_w.drop_duplicates(subset=[\"Name\",\"region\"])\n",
    "med_tp_w  = med_tp_w.merge(cou_lst_w,left_on=\"Name\",\n",
    "                           right_on=\"Name\",how = \"left\").drop_duplicates(\"Name\")\n",
    "med_tp_w  = med_tp_w.rename(columns = {\"region\" : \"Country\"})\n",
    "med_tp_w\n",
    "\n",
    "t = go.Table(header=dict(values = ['Name','Gold', 'Silver', 'Bronze','Total',\"Country\"],\n",
    "                         line = dict(color = 'black'),\n",
    "                         align = ['left','center'],\n",
    "                         fill  = dict(color = [ \"#66CCFF\",\"Gold\",\"Silver\",\n",
    "                                               \"#CC6633\",\"royalblue\",\"#CCFF66\"]),\n",
    "                         font = dict(color = 'black', size = 14)\n",
    "                        ),\n",
    "             cells  = dict(values = [med_tp_w.Name,med_tp_w.Gold,med_tp_w.Silver,\n",
    "                                     med_tp_w.Bronze,med_tp_w.Total,med_tp_w.Country],\n",
    "                           line = dict(color = '#506784'),\n",
    "                           align = ['left','center'],\n",
    "                           fill  = dict(color = \"#F5F8FF\"),\n",
    "                          )\n",
    "            )\n",
    "data = [t]\n",
    "\n",
    "l = go.Layout(dict(title = \"Top 100 athletes with highest total medals in Winter olympics\"))\n",
    "f = go.Figure(data=data,layout=l)\n",
    "py.iplot(f)\n",
    "\n",
    "#top10\n",
    "plot(med_tp_w[:10].sort_values(by = [\"Total\",\"Gold\", 'Silver', 'Bronze'],ascending = True),\n",
    "     \"Top 10 Athletes with highest medals in  winter olympics\")"
   ]
  },
  {
   "cell_type": "markdown",
   "metadata": {
    "_uuid": "1661689119d8ddf7e4a7acdfde7515c8871c0917"
   },
   "source": [
    "## Highest Female Olympic medalists"
   ]
  },
  {
   "cell_type": "code",
   "execution_count": null,
   "metadata": {
    "_kg_hide-input": true,
    "_uuid": "b3b08b0baf575bced7989019e7b41eeda1c8c10c"
   },
   "outputs": [],
   "source": [
    "female = events[events[\"Sex\"] == \"FEMALE\"]\n",
    "med_f  = pd.crosstab(female[\"Name\"],female[\"Medal\"]).reset_index()\n",
    "med_f[\"Total\"]  = med_f[\"Gold\"] + med_f[\"Silver\"] + med_f[\"Bronze\"]\n",
    "med_tp_f  = med_f.sort_values(by = [\"Total\",\"Gold\"],ascending= False)[:100]\n",
    "med_tp_f\n",
    "\n",
    "#Merge country\n",
    "cou_lst_f = med_tp_f[\"Name\"].tolist()\n",
    "cou_lst_f = female[female[\"Name\"].isin(cou_lst_f)][[\"Name\",\"region\"]]\n",
    "cou_lst_f = cou_lst_f.drop_duplicates(subset=[\"Name\",\"region\"])\n",
    "med_tp_f  = med_tp_f.merge(cou_lst_f,left_on=\"Name\",right_on=\"Name\",\n",
    "                           how = \"left\").drop_duplicates(\"Name\")\n",
    "med_tp_f  = med_tp_f.rename(columns = {\"region\" : \"Country\"})\n",
    "med_tp_f\n",
    "\n",
    "t = go.Table(header=dict(values = ['Name','Gold', 'Silver', 'Bronze','Total',\"Country\"],\n",
    "                         line = dict(color = 'black'),\n",
    "                         align = ['left','center'],\n",
    "                         fill  = dict(color = [ \"#66CCFF\",\"Gold\",\"Silver\",\n",
    "                                               \"#CC6633\",\"royalblue\",\"#CCFF66\"]),\n",
    "                         font = dict(color = 'black', size = 14)\n",
    "                        ),\n",
    "             cells  = dict(values = [med_tp_f.Name,med_tp_f.Gold,med_tp_f.Silver,\n",
    "                                     med_tp_f.Bronze,med_tp_f.Total,med_tp_f.Country],\n",
    "                           line = dict(color = '#506784'),\n",
    "                           align = ['left','center'],\n",
    "                           fill  = dict(color = \"#F5F8FF\"),\n",
    "                          )\n",
    "            )\n",
    "data = [t]\n",
    "\n",
    "l = go.Layout(dict(title = \"Top 100 Female athletes with highest total medals in olympics\"))\n",
    "f = go.Figure(data=data,layout=l)\n",
    "py.iplot(f)\n",
    "\n",
    "\n",
    "# top 10\n",
    "plot(med_tp_f[:10].sort_values(by = [\"Total\",\"Gold\", 'Silver', 'Bronze'],ascending = True),\n",
    "     \"Top 10 Female Athletes with highest medals in olympics\")"
   ]
  },
  {
   "cell_type": "markdown",
   "metadata": {
    "_uuid": "2f456bc7a6f7bf0dc029080cd8fb3938c4e01de3"
   },
   "source": [
    "# Medalist with most medals by Olympiad"
   ]
  },
  {
   "cell_type": "code",
   "execution_count": null,
   "metadata": {
    "_kg_hide-input": true,
    "_uuid": "8a53970c11ecac801ad88eac3f5883266938eefd"
   },
   "outputs": [],
   "source": [
    "yearly_tp = events.groupby([\"Year\",\"Season\",\"Name\"])[[\"Medal\",\"Gold\",\"Silver\",\"Bronze\"]].sum().reset_index()\n",
    "yearly_tp[\"Total\"] = yearly_tp[\"Gold\"] + yearly_tp[\"Silver\"] +yearly_tp[\"Bronze\"]\n",
    "yearly_tp = yearly_tp.sort_values(by = [\"Year\",\"Total\",\"Gold\",\"Silver\",\"Bronze\"],ascending =False)\n",
    "yearly_tp = yearly_tp.drop_duplicates(subset=[\"Year\",\"Season\"],keep=\"first\")\n",
    "yearly_tp\n",
    "\n",
    "t = go.Table(header=dict(values = [\"Year\",\"Season\",'Name','Gold', 'Silver', 'Bronze','Total'],\n",
    "                         line = dict(color = 'black'),\n",
    "                         align = ['left','center'],\n",
    "                         fill  = dict(color = [ \"#66CCFF\",\"#CCFF66\",\"#FF9999\",\n",
    "                                               \"Gold\",\"Silver\",\"#CC6633\",\"royalblue\",]),\n",
    "                         font = dict(color = 'black', size = 14)\n",
    "                        ),\n",
    "             cells  = dict(values = [yearly_tp.Year,yearly_tp.Season,yearly_tp.Name,\n",
    "                                     yearly_tp.Gold,yearly_tp.Silver,yearly_tp.Bronze,\n",
    "                                     yearly_tp.Total],\n",
    "                           line = dict(color = '#506784'),\n",
    "                           align = ['left','center'],\n",
    "                           fill  = dict(color = \"#F5F8FF\"),\n",
    "                          )\n",
    "            )\n",
    "data = [t]\n",
    "\n",
    "l = go.Layout(dict(title = \"Medalist with most medals by Olympiad\"))\n",
    "f = go.Figure(data=data,layout=l)\n",
    "py.iplot(f)\n"
   ]
  },
  {
   "cell_type": "markdown",
   "metadata": {
    "_uuid": "35d2dd176892612ef81c369abe9f18f8b85d9b9f"
   },
   "source": [
    "# Countries  with medals\n",
    "* Medals include every individual medal in team sports."
   ]
  },
  {
   "cell_type": "code",
   "execution_count": null,
   "metadata": {
    "_kg_hide-input": true,
    "_uuid": "55aafac0e48944e5d9fd59173100b9351c7648e4"
   },
   "outputs": [],
   "source": [
    "cou_med = events.groupby(\"region\")[\"Gold\",\"Silver\",\"Bronze\"].sum().reset_index()\n",
    "cou_med[\"Total\"] = cou_med[\"Gold\"] + cou_med[\"Silver\"] + cou_med[\"Bronze\"]\n",
    "cou_med = cou_med.sort_values(by = [\"Total\",\"Gold\",\"Silver\",\"Bronze\"],ascending = False)\n",
    "cou_med = cou_med.rename(columns={\"region\" : \"Country\"})\n",
    "\n",
    "t = go.Table(header=dict(values = cou_med.columns.tolist(),\n",
    "                         line = dict(color = 'black'),\n",
    "                         align = ['left','center'],\n",
    "                         fill  = dict(color = [ \"#66CCFF\",\"Gold\",\"Silver\",\"#CC6633\",\"#CCFF66\"]),\n",
    "                         font = dict(color = 'black', size = 14)\n",
    "                        ),\n",
    "             cells  = dict(values = [cou_med.Country,cou_med.Gold,cou_med.Silver,\n",
    "                                     cou_med.Bronze,cou_med.Total],\n",
    "                           line = dict(color = '#506784'),\n",
    "                           align = ['left','center'],\n",
    "                           fill  = dict(color = \"#F5F8FF\"),\n",
    "                          )\n",
    "            )\n",
    "data = [t]\n",
    "\n",
    "l = go.Layout(dict(title = \"Countries with most Medals(Summer and winter olympics)\"))\n",
    "f = go.Figure(data=data,layout=l)\n",
    "py.iplot(f)\n"
   ]
  },
  {
   "cell_type": "code",
   "execution_count": null,
   "metadata": {
    "_kg_hide-input": true,
    "_uuid": "4ecea0b466adcab144873f1c3582b32b1e94e8ef"
   },
   "outputs": [],
   "source": [
    "clr = [[0,\"rgb(5, 10, 172)\"],[0.35,\"rgb(40, 60, 190)\"],[0.5,\"rgb(70, 100, 245)\"],\\\n",
    "            [0.6,\"rgb(90, 120, 245)\"],[0.7,\"rgb(106, 137, 247)\"],[1,\"rgb(220, 220, 220)\"]]\n",
    "\n",
    "trace = go.Choropleth(locations = cou_med[\"Country\"],\n",
    "                      locationmode = \"country names\",\n",
    "                      z = cou_med[\"Total\"],\n",
    "                      colorscale = \"Viridis\",\n",
    "                      autocolorscale = False,\n",
    "                      reversescale = True,\n",
    "                      marker = dict(line = dict(width = .5,color = \"black\")),\n",
    "                      colorbar = dict(title = \"MEDALS COUNT \",\n",
    "                                      titleside = \"right\")\n",
    "                     )\n",
    "\n",
    "data = [trace]\n",
    "\n",
    "layout = go.Layout(dict(title = \"Countries  with medals( Summer and winter olympics)\",\n",
    "                        geo = dict(showframe = True,\n",
    "                                   showocean = True,\n",
    "                                   showcountries = True,\n",
    "                                   bgcolor = \"white\",\n",
    "                                   showcoastlines = False,\n",
    "                                   projection = dict(type = 'equirectangular')\n",
    "                                  ),\n",
    "                       )\n",
    "                  )\n",
    "\n",
    "fig = go.Figure(data=data,layout=layout)\n",
    "py.iplot(fig)"
   ]
  },
  {
   "cell_type": "markdown",
   "metadata": {
    "_uuid": "6f323f23c035ad3973782a14947ebe3ffa444b13"
   },
   "source": [
    "## Countries without medals"
   ]
  },
  {
   "cell_type": "code",
   "execution_count": null,
   "metadata": {
    "_kg_hide-input": true,
    "_uuid": "3263688d29fcd5a47317351644f75dd4dcba97e0"
   },
   "outputs": [],
   "source": [
    "G = '\\033[92m'\n",
    "print (G + UNDERLINE+BOLD+\"Countries without medals :\")\n",
    "np.array(cou_med[cou_med[\"Total\"] == 0][\"Country\"])"
   ]
  },
  {
   "cell_type": "code",
   "execution_count": null,
   "metadata": {
    "_kg_hide-input": true,
    "_uuid": "bd1952d5726a1bd68767228c8156f18fad3c9da4"
   },
   "outputs": [],
   "source": [
    "no_med = cou_med[cou_med[\"Total\"] == 0]\n",
    "no_med\n",
    "trace = go.Choropleth(locations = no_med[\"Country\"],\n",
    "                      showscale=False,\n",
    "                      locationmode = \"country names\",\n",
    "                      z = no_med[\"Total\"],\n",
    "                      colorscale = \"Hot\",\n",
    "                      reversescale = True,\n",
    "                      autocolorscale = False,\n",
    "                      hoverinfo = \"location\",\n",
    "                      marker = dict(line = dict(width = 1)\n",
    "                                   ),\n",
    "                     )\n",
    "\n",
    "data = [trace]\n",
    "\n",
    "        \n",
    "layout = go.Layout(dict(title = \"Countries  without Medals\",\n",
    "                        geo = dict(showframe = True,\n",
    "                                   showocean = True,\n",
    "                                   showcountries = True,\n",
    "                                   bgcolor = \"white\",\n",
    "                                   showcoastlines = False,\n",
    "                                   projection = dict(type = 'equirectangular')\n",
    "                                  ),\n",
    "                       )\n",
    "                  )\n",
    "\n",
    "fig = go.Figure(data=data,layout=layout)\n",
    "py.iplot(fig)"
   ]
  },
  {
   "cell_type": "markdown",
   "metadata": {
    "_uuid": "f28ed88fad7ece6f98e7de5c1065ce32dfefc933"
   },
   "source": [
    "# Boycotts\n",
    "Greece, Australia, France, and United Kingdom are the only countries to be represented at every Olympic Games since their inception in 1896. While countries sometimes miss an Olympics due to a lack of qualified athletes, some choose to boycott a celebration of the Games for various reasons."
   ]
  },
  {
   "cell_type": "code",
   "execution_count": null,
   "metadata": {
    "_kg_hide-input": true,
    "_uuid": "e4e919b8eb54bfb828d25b9bf288e20988498c45"
   },
   "outputs": [],
   "source": [
    "boycott_nations = pd.read_csv(r\"../input/olympic-boycott-nations/boycott.csv\",\n",
    "                              encoding='windows-1252')\n",
    "boycott_nations[\"host_city\"] = boycott_nations[\"host_city\"].str.replace(\" \",\"Berlin\")\n",
    "yr_by = boycott_nations.groupby(\"year\")[\"boycott_countries\"].nunique().reset_index()\n",
    "\n",
    "\n",
    "plt.figure(figsize=(10,6))\n",
    "sns.barplot(y =  yr_by[\"boycott_countries\"],x = yr_by[\"year\"] ,\n",
    "             palette = \"husl\",linewidth = 1,\n",
    "             edgecolor =\"k\"*len(yr_by))\n",
    "\n",
    "plt.xticks(size = 20)\n",
    "plt.xlabel(\"year\")\n",
    "plt.ylabel(\"Number of countries\")\n",
    "plt.title(\"Boycott nations by years\")\n",
    "plt.grid(True)"
   ]
  },
  {
   "cell_type": "markdown",
   "metadata": {
    "_uuid": "12819a0aad068550f9ba7b71d1edfa3c94edeadc"
   },
   "source": [
    "## Boycott nations for year 1956\n",
    "There were three boycotts of the 1956 Melbourne Olympics: the Netherlands, Spain, and Switzerland refused to attend because of the repression of the Hungarian uprising by the Soviet Union, but did send an equestrian delegation to Stockholm; Cambodia, Egypt, Iraq, and Lebanon boycotted the Games because of the Suez Crisis; and China (the \"People's Republic of China\") boycotted the Games because Taiwan was allowed to compete in the Games as the \"Republic of China\""
   ]
  },
  {
   "cell_type": "code",
   "execution_count": null,
   "metadata": {
    "_kg_hide-input": true,
    "_uuid": "74fbc820edfa79592aabb1c0f52d32ec10b23d0e"
   },
   "outputs": [],
   "source": [
    "boycott_nations\n",
    "boycott_nations[\"count\"] = 0\n",
    "\n",
    "def yearly_boycott(year) :\n",
    "    \n",
    "    x = boycott_nations[boycott_nations[\"year\"] == year][[\"boycott_countries\",\"count\"]]\n",
    "    tracer = go.Choropleth(locationmode = \"country names\",\n",
    "                           locations    = x[\"boycott_countries\"],\n",
    "                           z = x[\"count\"],\n",
    "                           showscale = False,\n",
    "                           reversescale = False,\n",
    "                           colorscale = \"Jet\",\n",
    "                           hoverinfo = \"location\",\n",
    "                          )\n",
    "    return tracer\n",
    "\n",
    "def boycott_layout(year) :\n",
    "    lay = go.Layout(dict(title = \"Boycott nations for year : \" + str(year),\n",
    "                         geo = dict(showframe = True,\n",
    "                                    showocean = True,\n",
    "                                    showcoastlines = True,\n",
    "                                    projection = dict(type = 'equirectangular'),\n",
    "                                    showcountries = True,\n",
    "                                  ),\n",
    "                        )\n",
    "                   )\n",
    "    return lay\n",
    "\n",
    "trace    = yearly_boycott(1956)\n",
    "layout   = boycott_layout(1956)\n",
    "data     = [trace]\n",
    "\n",
    "fig      = go.Figure(data=data,layout=layout)\n",
    "\n",
    "py.iplot(fig)"
   ]
  },
  {
   "cell_type": "markdown",
   "metadata": {
    "_uuid": "cec8d6f02827bcdba2e0ea0b28a7e3361a5016d7"
   },
   "source": [
    "## Boycott nations for year 1976\n",
    "1976 a large number of African countries threatened the IOC with a boycott to force them to ban South Africa and Rhodesia, because of their segregationist regimes. New Zealand was also one of the African boycott targets, because its national rugby union team had toured apartheid-ruled South Africa. The IOC conceded in the first two cases, but refused to ban New Zealand on the grounds that rugby was not an Olympic sport. Fulfilling their threat, twenty African countries were joined by Guyana and Iraq in a withdrawal from the Montreal Games, after a few of their athletes had already competed."
   ]
  },
  {
   "cell_type": "code",
   "execution_count": null,
   "metadata": {
    "_kg_hide-input": true,
    "_uuid": "33ae3cccdcd977d51fb4e6acbf025ad600994964"
   },
   "outputs": [],
   "source": [
    "trace    = yearly_boycott(1976)\n",
    "layout   = boycott_layout(1976)\n",
    "data     = [trace]\n",
    "\n",
    "fig      = go.Figure(data=data,layout=layout)\n",
    "\n",
    "py.iplot(fig)"
   ]
  },
  {
   "cell_type": "markdown",
   "metadata": {
    "_uuid": "2777dcf14537009f20068ec9efcbe5f97c581ccb"
   },
   "source": [
    "## Boycott nations for years 1980 & 1984\n",
    "In 1980 and 1984, the Cold War opponents boycotted each other's Games. The United States and sixty-five other countries boycotted the Moscow Olympics in 1980 because of the Soviet invasion of Afghanistan. This boycott reduced the number of nations participating to 80, the lowest number since 1956.The Soviet Union and 15 other nations countered by boycotting the Los Angeles Olympics of 1984, contending that they could not guarantee the safety of their athletes. Although a boycott led by the Soviet Union depleted the field in certain sports, 140 National Olympic Committees took part, which was a record at the time.The fact that Romania, a Warsaw Pact country, opted to compete despite Soviet demands led to a warm reception of the Romanian team by the United States. When the Romanian athletes entered during the opening ceremonies, they received a standing ovation from the spectators, which comprised mostly U.S. citizens. The boycotting nations of the Eastern Bloc staged their own alternate event, the Friendship Games, in July and August"
   ]
  },
  {
   "cell_type": "code",
   "execution_count": null,
   "metadata": {
    "_kg_hide-input": true,
    "_uuid": "e1d564c9ba5ded8f41fcf69b247d8fe7a5a75acf"
   },
   "outputs": [],
   "source": [
    "trace1    = yearly_boycott(1980)\n",
    "layout1   = boycott_layout(1980)\n",
    "data1     = [trace1]\n",
    "\n",
    "fig1      = go.Figure(data=data1,layout=layout1)\n",
    "\n",
    "\n",
    "trace2    = yearly_boycott(1984)\n",
    "layout2   = boycott_layout(1984)\n",
    "data2     = [trace2]\n",
    "\n",
    "fig2      = go.Figure(data=data2,layout=layout2)\n",
    "\n",
    "py.iplot(fig1)\n",
    "py.iplot(fig2)"
   ]
  },
  {
   "cell_type": "markdown",
   "metadata": {
    "_uuid": "b7c419c096eb41d19bbb13a7eec31613fda3c5e5"
   },
   "source": [
    "# 1906 Intercalated Games\n",
    "The Intercalated Olympic Games were to be a series of International Olympic Games halfway between what is now known as the Games of the Olympiad. This proposed series of games, intercalated in the Olympic Games cycle, was to always be held in \n",
    "\n",
    "Athens, and were to have equal status with the international games. However, the only such games were held in 1906.\n",
    "The Greeks were unable to keep the schedule for 1910. On the one hand problems in the Balkans made things difficult, but on the other, the modern Greeks found out the ancient Greeks were right: A two-year interval was too short. Where there had been a gap of six years before Athens 1906 (because of the almost all-American nature of the 1904 St Louis games), a gap of two years after London 1908 did not leave people enough time to prepare.\n",
    "\n",
    "With Athens 1910 a failure, the faith in Athens diminished, and as a result Athens 1914 got even less support. And then World War I started, and any further Intercalated Games had to wait until after the war. But after the war was over it had been more than a decade since Athens 1906, and the idea of Intercalated Games was given up entirely."
   ]
  },
  {
   "cell_type": "code",
   "execution_count": null,
   "metadata": {
    "_kg_hide-input": true,
    "_uuid": "cd965d5559b509017e101d85e30e69a22a9c0cd7"
   },
   "outputs": [],
   "source": [
    "#Intercalated Games\n",
    "intercarlated = events[events[\"Year\"] == 1906]\n",
    "athlete_partc = intercarlated.groupby(\"region\")[\"ID\"].nunique().reset_index()\n",
    "athlete_partc[\"x\"] = 0\n",
    "meds_ic = intercarlated.groupby(\"region\")[[\"Gold\",\"Silver\",\"Bronze\",\"Total\"]].sum().reset_index()\n",
    "athlete_partc_ic = athlete_partc.merge(meds_ic,left_on = \"region\",right_on= \"region\" ,how = \"left\")\n",
    "athlete_partc\n",
    "\n",
    "\n",
    "host_ic = pd.DataFrame({\"country\"  : [\"Greece\"],\n",
    "                        \"city\"     : [\"Athens\"],\n",
    "                        \"latitude\": [37.983333],\n",
    "                        \"longitude\": [23.733334],\n",
    "                        \"year\"    : 1906\n",
    "                        }\n",
    "                      )\n",
    "\n",
    "trace = go.Choropleth(locationmode = \"country names\",\n",
    "                      locations=athlete_partc[\"region\"] ,\n",
    "                      z = athlete_partc[\"x\"],\n",
    "                      showscale  =  False,\n",
    "                      colorscale = \"Portland\",\n",
    "                      reversescale = False,\n",
    "                      hoverinfo = \"location\",\n",
    "                      geo = \"geo3\"\n",
    "                     )\n",
    "\n",
    "trace2 = go.Scattergeo(lat = host_ic[\"latitude\"],\n",
    "                       lon = host_ic[\"longitude\"],\n",
    "                       geo = \"geo3\",\n",
    "                       marker  = dict(size = 10,\n",
    "                                      color = \"red\",\n",
    "                                      line  = dict(width = 1,\n",
    "                                                   color = \"black\"\n",
    "                                                  ) \n",
    "                                     ),\n",
    "                       name = \"Athens\",\n",
    "                       hoverinfo = \"name\"\n",
    "                      )\n",
    "\n",
    "lay = go.Layout(dict(title = \"Participants of the 1906 Games\",\n",
    "                         geo3 = dict(showframe = True,\n",
    "                                     showocean = True,\n",
    "                                     showcoastlines = True,\n",
    "                                     projection = dict(type = 'equirectangular'),\n",
    "                                     showcountries = True,\n",
    "                                  ),\n",
    "                        )\n",
    "                   )\n",
    "\n",
    "\n",
    "fig = go.Figure(data=[trace,trace2],layout=lay)\n",
    "py.iplot(fig)\n",
    "\n",
    "###\n",
    "trace2 = go.Scatter(x = athlete_partc_ic[\"region\"],\n",
    "                    y = athlete_partc_ic[\"ID\"],\n",
    "                    mode = \"lines+markers\",\n",
    "                    marker  = dict(color = \"red\",\n",
    "                                   line  = dict(width = 1,\n",
    "                                                color = \"grey\") \n",
    "                                  ),\n",
    "                    name  = \"Athletes\"\n",
    "                   )\n",
    "trace3 = go.Scatter(x = athlete_partc_ic[\"region\"],\n",
    "                    y = athlete_partc_ic[\"Total\"],\n",
    "                    mode = \"lines+markers\",\n",
    "                    marker  = dict(color = \"blue\",\n",
    "                                   line  = dict(width = 1,\n",
    "                                                color = \"grey\") \n",
    "                                  ),\n",
    "                    name  = \"Medals\"\n",
    "                   )\n",
    "\n",
    "lay1 = go.Layout(dict(title = \"Athletes participation and medals achieved by countries - 1906 intercarlated Games\",\n",
    "                      xaxis = dict(tickangle = 90,\n",
    "                                   mirror = \"ticks\",\n",
    "                                   showgrid = True,\n",
    "                                   zeroline = True,\n",
    "                                  ),\n",
    "                      yaxis = dict(showgrid =True)\n",
    "                     )\n",
    "                )\n",
    "fig1 = go.Figure(data=[trace2,trace3],layout=lay1)\n",
    "py.iplot(fig1)"
   ]
  },
  {
   "cell_type": "markdown",
   "metadata": {
    "_uuid": "b90d0ed94cfc82438c9296e5ffea6214767fd3d1"
   },
   "source": [
    "## Yearly top nations with highest medals in olympics"
   ]
  },
  {
   "cell_type": "code",
   "execution_count": null,
   "metadata": {
    "_kg_hide-input": true,
    "_uuid": "cdd01cc6bf6c11053c7af93395723b112ea37d13"
   },
   "outputs": [],
   "source": [
    "yearly_top_n = events.groupby([\"Year\",\"Season\",\"region\"])[\"Gold\",\"Silver\",\"Bronze\"].sum().reset_index()\n",
    "yearly_top_n[\"total\"] = yearly_top_n[\"Gold\"] + yearly_top_n[\"Silver\"] + yearly_top_n[\"Bronze\"]\n",
    "yearly_top_n = yearly_top_n.sort_values(by = [\"total\",\"Gold\",\"Silver\",\"Bronze\"],ascending  = False)\n",
    "yearly_top_n = yearly_top_n.drop_duplicates(subset=[\"Year\",\"Season\"],keep=\"first\").sort_values(by = \"Year\",ascending = False)\n",
    "\n",
    "yearly_top_ns = yearly_top_n[yearly_top_n[\"Season\"] == \"Summer\"]\n",
    "yearly_top_nw = yearly_top_n[yearly_top_n[\"Season\"] == \"Winter\"]\n",
    "yearly_top_nw\n",
    "\n",
    "#fuction for bubble plot\n",
    "def plot_top_nations(df,country,ratio) : \n",
    "    tracer = go.Scatter(x = df[df[\"region\"] == country][\"Year\"],\n",
    "                        y = df[df[\"region\"] == country][\"total\"],\n",
    "                        mode  = \"markers\",\n",
    "                        marker = dict(line = dict(width =1,color = \"black\"),\n",
    "                                      size = df[df[\"region\"] == country][\"total\"]/ratio,\n",
    "                                     ),\n",
    "                        name  = country \n",
    "                       )\n",
    "    return tracer\n",
    "\n",
    "def plot_layout(title) :\n",
    "    layout = go.Layout(dict(title = title,\n",
    "                        xaxis = dict(gridcolor = 'rgb(255, 255, 255)',\n",
    "                                     title = \"Year\",\n",
    "                                     zerolinewidth=1,\n",
    "                                     ticklen=5,\n",
    "                                     gridwidth=2\n",
    "                                    ),\n",
    "                        yaxis = dict(gridcolor = 'rgb(255, 255, 255)',\n",
    "                                     title = \"Medal Count\",\n",
    "                                     zerolinewidth=1,\n",
    "                                     ticklen=5,\n",
    "                                     gridwidth=2\n",
    "                                    ),\n",
    "                        paper_bgcolor = \"rgb(243,243,243)\",\n",
    "                        plot_bgcolor  = \"rgb(243,243,243)\",\n",
    "                       )\n",
    "                  )\n",
    "    return layout\n",
    "\n",
    "#plotting summer olympics\n",
    "ts1 = plot_top_nations(yearly_top_ns,\"USA\",10)\n",
    "ts2 = plot_top_nations(yearly_top_ns,\"Russia\",10)\n",
    "ts3 = plot_top_nations(yearly_top_ns,'Germany',10)\n",
    "ts4 = plot_top_nations(yearly_top_ns,'Sweden',10)\n",
    "ts5 = plot_top_nations(yearly_top_ns,\"UK\",10)\n",
    "ts6 = plot_top_nations(yearly_top_ns,'Greece',10)\n",
    "ts7 = plot_top_nations(yearly_top_ns,'France',10)\n",
    "\n",
    "dat1 = [ts1,ts2,ts3,ts4,ts5,ts6,ts7]\n",
    "lay1 = plot_layout(\"Yearly top nations with highest medals in summer olympics\")\n",
    "fig1 = go.Figure(data=dat1,layout=lay1)\n",
    "\n",
    "py.iplot(fig1)\n",
    "\n",
    "#plotting winter olympics\n",
    "tw1  = plot_top_nations(yearly_top_nw,\"USA\",2)\n",
    "tw2  = plot_top_nations(yearly_top_nw,\"Russia\",2)\n",
    "tw3  = plot_top_nations(yearly_top_nw,'Germany',2)\n",
    "tw4  = plot_top_nations(yearly_top_nw,'Sweden',2)\n",
    "tw5  = plot_top_nations(yearly_top_nw,\"UK\",2)\n",
    "tw6  = plot_top_nations(yearly_top_nw,'Greece',2)\n",
    "tw7  = plot_top_nations(yearly_top_nw,'France',2)\n",
    "tw8  = plot_top_nations(yearly_top_nw,'Canada',2)\n",
    "tw9  = plot_top_nations(yearly_top_nw,'Finland',2)\n",
    "tw10 = plot_top_nations(yearly_top_nw,'Switzerland',2)\n",
    "tw11 = plot_top_nations(yearly_top_nw,'Norway',2)\n",
    "\n",
    "dat2 = [tw1,tw2,tw3,tw4,tw5,tw6,tw7,tw8,tw9,tw10,tw11]\n",
    "lay2 = plot_layout(\"Yearly top nations with highest medals in winter olympics\")\n",
    "fig2 = go.Figure(data=dat2,layout=lay2)\n",
    "\n",
    "py.iplot(fig2)"
   ]
  },
  {
   "cell_type": "markdown",
   "metadata": {
    "_uuid": "7c5b44b51ebe44556415e837f539ed8f5b8c0ce7"
   },
   "source": [
    "# Country wise analysis"
   ]
  },
  {
   "cell_type": "code",
   "execution_count": null,
   "metadata": {
    "_kg_hide-input": true,
    "_uuid": "c58b62a9ebdb0532db9de0337f65397f997da09e"
   },
   "outputs": [],
   "source": [
    "\n",
    "def country_wise_analysis(country_name) :\n",
    "    \n",
    "    data   = events[events[\"region\"] == country_name].sort_values(by = \"Year\",\n",
    "                                                                  ascending = False)\n",
    "    s_data = data[data[\"Season\"] == \"Summer\"]\n",
    "    w_data = data[data[\"Season\"] == \"Winter\"]\n",
    "    \n",
    "    RED = '\\033[91m'\n",
    "    PURPLE = '\\033[95m'\n",
    "    UNDERLINE = '\\033[4m'\n",
    "    END = '\\033[0m'\n",
    "\n",
    "    print (BLUE+UNDERLINE+BOLD+country_name+END)\n",
    "    print (\"--------------------\")\n",
    "    print (\"Olympics appearances  : \" , data[\"Games\"].nunique(),\"\\n\")\n",
    "    \n",
    "    print (RED+UNDERLINE+BOLD+ \"Summer Olympics\"+END)\n",
    "    print (\"--------------------\")\n",
    "    print (\"Summer Olympics appearances : \", s_data[\"Year\"].nunique())\n",
    "    print (\"Total Participants          : \", s_data[\"ID\"].nunique())\n",
    "    print (\"Female Participants         : \", s_data[s_data[\"Sex\"] == \"FEMALE\"][\"ID\"].nunique(),\n",
    "           \", Percent : \" ,\n",
    "           np.around(s_data[s_data[\"Sex\"] == \"FEMALE\"][\"ID\"].nunique()/s_data[\"ID\"].nunique()*100,2),\n",
    "           \"%\")\n",
    "    print (\"Male   Participants         : \", s_data[s_data[\"Sex\"] == \"MALE\"][\"ID\"].nunique(),\n",
    "           \", Percent : \" ,\n",
    "           np.around(s_data[s_data[\"Sex\"] == \"MALE\"][\"ID\"].nunique()/s_data[\"ID\"].nunique()*100,2),\n",
    "           \"%\")\n",
    "    print (\"Competed Sports             : \",s_data[\"Sport\"].nunique())\n",
    "    print (\"Competed Events             : \",s_data[\"Event\"].nunique())\n",
    "    \n",
    "    female_events_summer = s_data[s_data[\"Sex\"] == \"FEMALE\"][\"Event\"].unique().tolist()\n",
    "    male_events_summer   = s_data[s_data[\"Sex\"] == \"MALE\"][\"Event\"].unique().tolist()\n",
    "    both_events_summer   = [x for x in male_events_summer if x in female_events_summer]\n",
    "    print (\"Male Events                 : \",len(male_events_summer))\n",
    "    print (\"Female Events               : \",len(female_events_summer))\n",
    "    print (\"Events  for both genders    : \",len(both_events_summer))\n",
    "    print (\"Total Medals                : \",s_data[\"Total\"].sum() , \"(medals include every individual medal in team sport)\")\n",
    "    print (\"Gold                        : \",s_data[\"Gold\"].sum())\n",
    "    print (\"Silver                      : \",s_data[\"Silver\"].sum())\n",
    "    print (\"Bronze                      : \",s_data[\"Bronze\"].sum())\n",
    "    pop_spo_sum   = (s_data.groupby(\"Sport\")[\"Total\"].sum().reset_index().\n",
    "                     sort_values(by = \"Total\",ascending =False))\n",
    "    print (\"Popular Sports              : \" ,pop_spo_sum[\"Sport\"][:3].tolist())\n",
    "    pop_play_sum  = (s_data.groupby([\"Name\",\"Sport\"])[\"Total\",\"Gold\",\"Silver\",\"Bronze\"].sum().reset_index().\n",
    "                    sort_values(by = [\"Total\",\"Gold\",\"Silver\",\"Bronze\"],ascending =False))\n",
    "    print (\"Most Medals  (Athlete)      : \" ,pop_play_sum.loc[pop_play_sum[\"Total\"].idxmax()][\"Name\"],\n",
    "           \",Sport - \", pop_play_sum.loc[pop_play_sum[\"Total\"].idxmax()][\"Sport\"])\n",
    "    \n",
    "    ###\n",
    "        \n",
    "    print (\"\\n\",PURPLE+UNDERLINE+BOLD+ \"Winter Olympics\"+END)\n",
    "    print (\"--------------------\")\n",
    "    print (\"Winter Olympics appearances : \", w_data[\"Year\"].nunique())\n",
    "    print (\"Total Participants          : \", w_data[\"ID\"].nunique())\n",
    "    print (\"Female Participants         : \", w_data[w_data[\"Sex\"] == \"FEMALE\"][\"ID\"].nunique(),\n",
    "           \", Percent : \" ,\n",
    "           np.around(w_data[w_data[\"Sex\"] == \"FEMALE\"][\"ID\"].nunique()/w_data[\"ID\"].nunique()*100,2),\n",
    "           \"%\")\n",
    "    print (\"Male   Participants         : \", w_data[w_data[\"Sex\"] == \"MALE\"][\"ID\"].nunique(),\n",
    "           \", Percent : \" ,\n",
    "           np.around(w_data[w_data[\"Sex\"] == \"MALE\"][\"ID\"].nunique()/w_data[\"ID\"].nunique()*100,2),\n",
    "           \"%\")\n",
    "    print (\"Competed Sports             : \",w_data[\"Sport\"].nunique())\n",
    "    print (\"Competed Events             : \",w_data[\"Event\"].nunique())\n",
    "    \n",
    "    female_events_winter = w_data[w_data[\"Sex\"] == \"FEMALE\"][\"Event\"].unique().tolist()\n",
    "    male_events_winter   = w_data[w_data[\"Sex\"] == \"MALE\"][\"Event\"].unique().tolist()\n",
    "    both_events_winter   = [x for x in male_events_winter if x in female_events_winter]\n",
    "    print (\"Male Events                 : \",len(male_events_winter))\n",
    "    print (\"Female Events               : \",len(female_events_winter))\n",
    "    print (\"Events  for both genders    : \",len(both_events_winter))\n",
    "    print (\"Total Medals                : \",w_data[\"Total\"].sum() , \"(medals include every individual medal in team sport)\")\n",
    "    print (\"Gold                        : \",w_data[\"Gold\"].sum())\n",
    "    print (\"Silver                      : \",w_data[\"Silver\"].sum())\n",
    "    print (\"Bronze                      : \",w_data[\"Bronze\"].sum())\n",
    "    pop_spo_win   = (w_data.groupby(\"Sport\")[\"Total\"].sum().reset_index().\n",
    "                     sort_values(by = \"Total\",ascending =False))\n",
    "    print (\"Popular Sports              : \" ,pop_spo_win[\"Sport\"][:3].tolist())\n",
    "    pop_play_win  = (w_data.groupby([\"Name\",\"Sport\"])[\"Total\",\"Gold\",\"Silver\",\"Bronze\"].sum().reset_index().\n",
    "                    sort_values(by = [\"Total\",\"Gold\",\"Silver\",\"Bronze\"],ascending =False))\n",
    "    print (\"Most Medals  (Athlete)      : \" ,pop_play_win.loc[pop_play_win[\"Total\"].idxmax()][\"Name\"],\n",
    "           \",Sport - \", pop_play_win.loc[pop_play_win[\"Total\"].idxmax()][\"Sport\"])"
   ]
  },
  {
   "cell_type": "markdown",
   "metadata": {
    "_uuid": "e7c066dc190ca651958014d0dfcf735a008ae933"
   },
   "source": [
    "# India at the Olympics\n",
    "India first participated at the Olympic Games in 1900, with a lone athlete (Norman Pritchard) winning two medals- both silver- in athletics. The nation first sent a team to the Summer Olympic Games in 1920, and has participated in every Summer Games since then. India has also competed at several Winter Olympic Games beginning in 1964.For a period of time, India national field hockey team was dominant in Olympic competition, winning eleven medals in twelve Olympics between 1920 and 1980. "
   ]
  },
  {
   "cell_type": "code",
   "execution_count": null,
   "metadata": {
    "_kg_hide-input": true,
    "_uuid": "c0372c7622a9c7541f68162e5f1fcacdd27889a0"
   },
   "outputs": [],
   "source": [
    "country_wise_analysis(\"India\")"
   ]
  },
  {
   "cell_type": "markdown",
   "metadata": {
    "_uuid": "169e4a95481d5313215b61c0f65919be0f74d85b"
   },
   "source": [
    "\n",
    "# USA\n",
    "The United States of America has sent athletes to every celebration of the modern Olympic Games with the exception of the 1980 Summer Olympics, during which it led a boycott. "
   ]
  },
  {
   "cell_type": "code",
   "execution_count": null,
   "metadata": {
    "_kg_hide-input": true,
    "_uuid": "ba19752371ab802a9b59c1effca9bfa80872c6af"
   },
   "outputs": [],
   "source": [
    "country_wise_analysis(\"USA\")"
   ]
  },
  {
   "cell_type": "markdown",
   "metadata": {
    "_uuid": "2bc2ab6e3596f3f8b95ca906065d6c6d80dc3228"
   },
   "source": [
    "# Canada"
   ]
  },
  {
   "cell_type": "code",
   "execution_count": null,
   "metadata": {
    "_kg_hide-input": true,
    "_uuid": "59bb321635c6891d44d49309ccc3149fabb10203"
   },
   "outputs": [],
   "source": [
    "country_wise_analysis(\"Canada\")"
   ]
  },
  {
   "cell_type": "markdown",
   "metadata": {
    "_uuid": "827c387c1eb9d04c2ffdf4b1fe84281e80e5254f"
   },
   "source": [
    "## Comparing Countries performance yearly\n",
    "* Medals acieved by nations yearly"
   ]
  },
  {
   "cell_type": "code",
   "execution_count": null,
   "metadata": {
    "_kg_hide-input": true,
    "_uuid": "63d9725d5c56b3fdd03f8ea17352537b98ff9d25"
   },
   "outputs": [],
   "source": [
    "#Function to compare two countries medal achievements over years\n",
    "def country_compare(country1,country2) :   \n",
    "    \n",
    "    cn_lst = [country1,country2]\n",
    "    df =  events[(events[\"region\"].isin(cn_lst))]\n",
    "    df =  df.groupby([\"Year\",\"Season\",\"region\"])[\"Gold\",\"Silver\",\"Bronze\"].sum().reset_index()\n",
    "    df[\"Total_medals\"] = df[\"Gold\"] + df[\"Silver\"] + df[\"Bronze\"]\n",
    "    \n",
    "    summer = df[df[\"Season\"] == \"Summer\"]\n",
    "    winter = df[df[\"Season\"] == \"Winter\"] \n",
    "    \n",
    "    def bar_compare(dataframe,aggregate,color) :\n",
    "        tracer =     go.Bar(x = dataframe[dataframe[\"region\"] == aggregate][\"Year\"],\n",
    "                            y = dataframe[dataframe[\"region\"] == aggregate][\"Total_medals\"],\n",
    "                \n",
    "                            marker = dict(line  = dict(width = 1),\n",
    "                                          color = color,\n",
    "                                         ),\n",
    "                            name = aggregate,\n",
    "                           )\n",
    "        return tracer\n",
    "    \n",
    "    def layout_style(title) :\n",
    "        layout = go.Layout(dict(title = title,\n",
    "                                xaxis = dict(gridcolor = 'rgb(255, 255, 255)',\n",
    "                                             title = \"Year\",\n",
    "                                             zerolinewidth=1,\n",
    "                                             ticklen=5,\n",
    "                                             gridwidth=2\n",
    "                                            ),\n",
    "                                yaxis = dict(gridcolor = 'rgb(255, 255, 255)',\n",
    "                                             title = \"Medals\",\n",
    "                                             zerolinewidth=1,\n",
    "                                             ticklen=5,\n",
    "                                             gridwidth=2\n",
    "                                            ),\n",
    "                                paper_bgcolor = \"rgb(243,243,243)\",\n",
    "                                plot_bgcolor  = \"rgb(243,243,243)\"\n",
    "                               ),\n",
    "                          )\n",
    "        return layout\n",
    "        \n",
    "    trace1  = bar_compare(summer,country1,\"orange\")     \n",
    "    trace2  = bar_compare(summer,country2,\"grey\")\n",
    "    trace3  = bar_compare(winter,country1,\"orange\")\n",
    "    trace4  = bar_compare(winter,country2,\"grey\")\n",
    "    \n",
    "    data1   = [trace1,trace2]\n",
    "    data2   = [trace3,trace4]\n",
    "    \n",
    "    layout1 = layout_style(country1 + \" & \" + country2 + \" performance in summer olympics\" )\n",
    "    layout2 = layout_style(country1 + \" & \" + country2 + \" performance in winter olympics\")\n",
    "    \n",
    "    fig1    = go.Figure(data = data1,layout = layout1)\n",
    "    fig2    = go.Figure(data = data2,layout = layout2)\n",
    "    \n",
    "    py.iplot(fig1)\n",
    "    py.iplot(fig2)"
   ]
  },
  {
   "cell_type": "markdown",
   "metadata": {
    "_uuid": "b0f1cf04ae46e14c7a8441ad9d9fb7650c8aaf09"
   },
   "source": [
    "## USA & Russia"
   ]
  },
  {
   "cell_type": "code",
   "execution_count": null,
   "metadata": {
    "_kg_hide-input": true,
    "_uuid": "3a7a7c4509ec3f0787034593a1f75c95c0eaa1da"
   },
   "outputs": [],
   "source": [
    "country_compare(\"USA\",\"Russia\")"
   ]
  },
  {
   "cell_type": "markdown",
   "metadata": {
    "_uuid": "bca9c760013da5f986f3c2f3c3c3ada2c09ef6cd"
   },
   "source": [
    "## USA & Germany"
   ]
  },
  {
   "cell_type": "code",
   "execution_count": null,
   "metadata": {
    "_kg_hide-input": true,
    "_uuid": "e4fec5a8dcaef196a8816b6dc5e8dd9d1a43771b"
   },
   "outputs": [],
   "source": [
    "country_compare(\"USA\",\"Germany\")"
   ]
  },
  {
   "cell_type": "markdown",
   "metadata": {
    "_uuid": "95a2c3a2689a769c5ee8fd295499aeb116f0f5ae"
   },
   "source": [
    "## \"Yearly performance of countries and top players\""
   ]
  },
  {
   "cell_type": "code",
   "execution_count": null,
   "metadata": {
    "_kg_hide-input": true,
    "_uuid": "29f861814a0b2ab45eba4337cc63702fbc959c2a"
   },
   "outputs": [],
   "source": [
    "def yearly_perf(year,season) :\n",
    "    \n",
    "    if season == \"Summer\" :\n",
    "        dataframe = events[(events[\"Season\"] == \"Summer\") & (events[\"Year\"] == year)] \n",
    "    elif season == \"Winter\" :\n",
    "        dataframe = events[(events[\"Season\"] == \"Winter\") & (events[\"Year\"] == year)]\n",
    "        \n",
    "    dataframe[\"Total\"] = dataframe[\"Gold\"] + dataframe[\"Silver\"] + dataframe[\"Bronze\"]\n",
    "    \n",
    "        \n",
    "    choropleth_df = dataframe.groupby(\"region\")[\"Gold\",\"Silver\",\"Bronze\",\"Total\"].sum().reset_index()\n",
    "    choropleth_df = choropleth_df.sort_values(by = [\"Total\",\"Gold\",\"Silver\",\"Bronze\"],ascending = False)\n",
    "    \n",
    "    top_players = dataframe.groupby(\"Name\")[\"Gold\",\"Silver\",\"Bronze\",\"Total\"].sum().reset_index()\n",
    "    top_players = top_players.sort_values(by = [\"Total\",\"Gold\",\"Silver\",\"Bronze\"],ascending = False)\n",
    "    \n",
    "    hostcity = host[host[\"Year\"] == str(year)]\n",
    "    \n",
    "    if season == \"Summer\" :\n",
    "        hostcity = hostcity[hostcity[\"season\"] == \"SUMMER\"]\n",
    "    if season == \"Winter\" : \n",
    "        hostcity = hostcity[hostcity[\"season\"] == \"WINTER\"]\n",
    "    \n",
    "    \n",
    "    trace1 = go.Choropleth(z = choropleth_df[\"Total\"],\n",
    "                           locationmode=\"country names\",\n",
    "                           locations = choropleth_df[\"region\"],\n",
    "                           marker = dict(line = dict(width  = .5,\n",
    "                                                     color  = \"black\")),\n",
    "                           colorbar = dict(title = \"MEDALS COUNT \",\n",
    "                                           titleside = \"right\",\n",
    "                                           thickness = 20,\n",
    "                                           len = .4,\n",
    "                                           x = -.1,\n",
    "                                           y = .45,\n",
    "                                          ),\n",
    "                           geo = \"geo3\",\n",
    "                           showscale = True,\n",
    "                           name = \"Medals\",\n",
    "                           hoverlabel = dict(bgcolor = \"white\"),\n",
    "                          )\n",
    "    \n",
    "    trace2 = go.Bar(x = top_players[\"Name\"][:5] , y = top_players[\"Gold\"][:5],\n",
    "                   marker = dict(color = \"gold\",\n",
    "                                 line = dict(width = 1,\n",
    "                                            color = \"white\")\n",
    "                                ),\n",
    "                   name = \"gold\",\n",
    "                   hoverlabel = dict(bgcolor = \"white\")\n",
    "                   )\n",
    "                    \n",
    "    trace3 = go.Bar(x = top_players[\"Name\"][:5] , y = top_players[\"Silver\"][:5],\n",
    "                   marker = dict(color = \"silver\",\n",
    "                                 line = dict(width = 1,\n",
    "                                            color = \"white\")\n",
    "                                ),\n",
    "                                \n",
    "                    name = \"silver\",\n",
    "                    hoverlabel = dict(bgcolor = \"white\")\n",
    "                   )\n",
    "                    \n",
    "    trace4 = go.Bar(x = top_players[\"Name\"][:5] , y = top_players[\"Bronze\"][:5],\n",
    "                   marker = dict(color = \"red\",\n",
    "                                 line = dict(width = 1,\n",
    "                                            color = \"white\")\n",
    "                                ),\n",
    "                    name = \"bronze\",\n",
    "                    hoverlabel = dict(bgcolor = \"white\")\n",
    "                   )\n",
    "    \n",
    "    trace5 = go.Scattergeo(lat=hostcity[\"latitude\"],lon = hostcity[\"longitude\"],\n",
    "                           geo=\"geo3\",\n",
    "                           mode = \"markers\",\n",
    "                           marker = dict(size = 20,\n",
    "                                         color = \"red\",\n",
    "                                         line  = dict(width = 2,\n",
    "                                                     color = \"black\"),\n",
    "                                        ),\n",
    "                           text = \"Host city  : \" + hostcity[\"City\"],\n",
    "                           name = \"Host city\",\n",
    "                           hoverlabel = dict(bgcolor = \"white\"),\n",
    "                           opacity = .9\n",
    "                          )\n",
    "    \n",
    "    data = [trace1,trace2,trace3,trace4,trace5]\n",
    "    \n",
    "    layout = go.Layout(dict(plot_bgcolor  = \"black\",\n",
    "                            paper_bgcolor = \"black\" ,\n",
    "                            titlefont  = dict(size = 20,\n",
    "                                              family = \"Raleway\"),\n",
    "                            font = dict(color = \"white\"),\n",
    "                            dragmode = \"zoom\",\n",
    "                            geo3 = dict(domain = dict(x = [0,.55] , y = [0,.9]),\n",
    "                                        showland   = True,\n",
    "                                        showocean  = True,\n",
    "                                        landcolor  = \"white\",\n",
    "                                        bgcolor    = \"black\",\n",
    "                                        projection = dict(type = \"orthographic\",\n",
    "                                                          rotation = dict(lat = np.around(hostcity.reset_index().at[0,\"latitude\"],0),\n",
    "                                                                          lon = np.around(hostcity.reset_index().at[0,\"longitude\"],0)\n",
    "                                                                         )\n",
    "                                                         ),\n",
    "                                        showcountries = True,\n",
    "                                       ),\n",
    "                            margin = dict(r = 20,t = 25,\n",
    "                                          b = 40,l = 60),\n",
    "                            scene  = dict(domain = dict(x = [0.5,1],y = [0,0.55]),\n",
    "                                          xaxis  = dict(gridcolor = \"white\"),\n",
    "                                          yaxis  = dict(gridcolor = \"white\"),\n",
    "                                         ),\n",
    "                            showlegend = False,\n",
    "                            xaxis = dict(anchor = \"y\" , \n",
    "                                         domain =  [0.6, 0.95] ),\n",
    "                            yaxis = dict(anchor = \"x\",\n",
    "                                         domain = [0.26, 0.95],\n",
    "                                         showgrid = True,\n",
    "                                        ),\n",
    "                           title = \"Yearly performance of countries and top players - \" + str(year),\n",
    "                           ),\n",
    "                      )\n",
    "    \n",
    "    annotations = dict(text = \"Year : \" + str(year) + \", Season : \" + season ,\n",
    "                       showarrow = False,\n",
    "                       xref = \"paper\",\n",
    "                       yref = \"paper\",\n",
    "                       x = 0,\n",
    "                       y = 0,\n",
    "                      )\n",
    "    \n",
    "    layout['annotations'] = [annotations]\n",
    "    \n",
    "    figure = go.Figure(data=data,layout=layout)\n",
    "    DARKCYAN = '\\033[36m'\n",
    "    print (BLUE + BOLD + \"Host Country                 : \" , hostcity.reset_index().at[0,\"Country\"])\n",
    "    print (\"Host City                    : \" , hostcity.reset_index().at[0,\"City\"])\n",
    "    print (\"Total regions participated   : \" , dataframe[\"region\"].nunique())\n",
    "    print (\"Total Participants           : \" , dataframe[\"ID\"].nunique())\n",
    "    print (\"Total Female Participants    : \" , dataframe[dataframe[\"Sex\"] == \"FEMALE\"][\"ID\"].nunique())\n",
    "    print (\"Total Male Participants      : \" , dataframe[dataframe[\"Sex\"] == \"MALE\"][\"ID\"].nunique())\n",
    "    print (\"Number of Sports             : \" , dataframe[\"Sport\"].nunique())\n",
    "    print (\"Number of Events             : \" , dataframe[\"Event\"].nunique())\n",
    "    \n",
    "    male_ev   = dataframe[dataframe[\"Sex\"] == \"MALE\"][\"Event\"].unique().tolist()\n",
    "    female_ev = dataframe[dataframe[\"Sex\"] == \"FEMALE\"][\"Event\"].unique().tolist()\n",
    "    both_ev   = [x for x in male_ev if x in female_ev]\n",
    "    male_events   = [x for x in male_ev if x not in both_ev]\n",
    "    female_events = [x for x in female_ev if x not in both_ev]\n",
    "    print(\"Events for female athletes   : \" , len(female_events))\n",
    "    print(\"Events for male athletes     : \" , len(male_events))\n",
    "    print(\"Events for both genders      : \" , len(both_ev))\n",
    "    \n",
    "    print(\"Youngest Participant  :  \",dataframe.loc[dataframe[\"Age\"].idxmin()][\"Name\"],\n",
    "      \" , Age - \" , (dataframe.loc[dataframe[\"Age\"].idxmin()][\"Age\"]).astype(int),\n",
    "      \" , Country - \" ,dataframe.loc[dataframe[\"Age\"].idxmin()][\"region\"] )\n",
    "    print(\"Oldest Participant    :  \",dataframe.loc[dataframe[\"Age\"].idxmax()][\"Name\"],\n",
    "      \" , Age - \" , (dataframe.loc[dataframe[\"Age\"].idxmax()][\"Age\"]).astype(int),\n",
    "      \" , Country - \" ,dataframe.loc[dataframe[\"Age\"].idxmax()][\"region\"] )    \n",
    "    med  = dataframe.groupby([\"Name\",\"Sport\"])[\"Total\"].sum().reset_index()\n",
    "    print(\"Most Medals (Athlete) :  \", med.loc[med[\"Total\"].idxmax()][\"Name\"],\n",
    "          \", Sport - \" ,med.loc[med[\"Total\"].idxmax()][\"Sport\"])\n",
    "    med_c = dataframe.groupby(\"region\")[\"Total\"].sum().reset_index()\n",
    "    print(\"Most Medals (Country) :  \",med_c.loc[med_c[\"Total\"].idxmax()][\"region\"])\n",
    "    \n",
    "    \n",
    "    py.iplot(figure)\n",
    "    "
   ]
  },
  {
   "cell_type": "markdown",
   "metadata": {
    "_uuid": "35dd120ee3a637a72e4fe93ef546b164812e43c7"
   },
   "source": [
    "##  2016 Summer Olympics\n",
    "The 2016 Summer Olympics officially known as the Games of the XXXI Olympiad and commonly known as Rio 2016, was an international multi-sport event that was held from 5 to 21 August 2016 in Rio de Janeiro, Brazil, with preliminary events in some sports beginning on 3 August. These were the first Olympic Games ever to be held in South America."
   ]
  },
  {
   "cell_type": "code",
   "execution_count": null,
   "metadata": {
    "_kg_hide-input": true,
    "_uuid": "4d752354cab772294473b0b38fa96eaea4340232"
   },
   "outputs": [],
   "source": [
    "yearly_perf(2016,\"Summer\")"
   ]
  },
  {
   "cell_type": "markdown",
   "metadata": {
    "_uuid": "8d25043e87cb9aeecb07693a11842679e80dd45f"
   },
   "source": [
    "## 2010 Winter Olympics\n",
    "The 2010 Winter Olympics, officially known as the XXI Olympic Winter Games and commonly known as Vancouver 2010, informally the 21st Winter Olympics, was an international winter multi-sport event that was held from 12 to 28 February 2010 in Vancouver, British Columbia, Canada, with some events held in the surrounding suburbs of Richmond, West Vancouver and the University Endowment Lands, and in the nearby resort town of Whistler. "
   ]
  },
  {
   "cell_type": "code",
   "execution_count": null,
   "metadata": {
    "_kg_hide-input": true,
    "_uuid": "117c7f765c4c9e61356ea8660c08fe6829e6b4ae"
   },
   "outputs": [],
   "source": [
    "yearly_perf(2010,\"Winter\")"
   ]
  },
  {
   "cell_type": "markdown",
   "metadata": {
    "_kg_hide-input": true,
    "_uuid": "f80f911b3040f5f28ad452b771ef6fa0e855f7cc"
   },
   "source": [
    "## 1996 Summer Olympics\n",
    "The 1996 Summer Olympics, officially known as the Games of the XXVI Olympiad and unofficially referred to as the Centennial Olympic Games, was an international multi-sport event that was celebrated from July 19 to August 4, 1996, in Atlanta, Georgia, United States. A record 197 nations, all current IOC member nations, took part in the Games, fielding a total of 10,339 athletes. "
   ]
  },
  {
   "cell_type": "code",
   "execution_count": null,
   "metadata": {
    "_kg_hide-input": true,
    "_uuid": "5489cb0edaf35f65c9882cdfb9050ab51e19efbe"
   },
   "outputs": [],
   "source": [
    "yearly_perf(1996,\"Summer\")"
   ]
  }
 ],
 "metadata": {
  "kernelspec": {
   "display_name": "Python 2",
   "language": "python",
   "name": "python2"
  },
  "language_info": {
   "codemirror_mode": {
    "name": "ipython",
    "version": 2
   },
   "file_extension": ".py",
   "mimetype": "text/x-python",
   "name": "python",
   "nbconvert_exporter": "python",
   "pygments_lexer": "ipython2",
   "version": "2.7.15"
  }
 },
 "nbformat": 4,
 "nbformat_minor": 1
}
